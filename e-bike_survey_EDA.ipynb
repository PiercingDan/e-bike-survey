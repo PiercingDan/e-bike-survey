{
 "cells": [
  {
   "cell_type": "markdown",
   "metadata": {},
   "source": [
    "# E-Bike Survey Data Exploration & Pre-processing\n",
    "\n",
    "*By [Danny Luo](https://dluo.me/)*\n",
    "\n",
    "The following is a notebook that performs data EDA and trains ML models on the [City of Toronto E-Bike Survey Response Results](https://www1.toronto.ca/wps/portal/contentonly?vgnextoid=b3fc9ba6aa360410VgnVCM10000071d60f89RCRD&vgnextchannel=7807e03bb8d1e310VgnVCM10000071d60f89RCRD). An official desription follows: \n",
    "\n",
    "*'Between April 10 and May 8, 2013 the City of Toronto posted an online survey, which sought to gather demographic, travel and public opinion data to better understand e-bikes, and how City of Toronto policy should be directed to incorporate them into Toronto's Transportation mix.'*\n",
    "\n",
    "I use Jupyter Notebook as the preferred method of showcasing my results due to its transparency and fantastic visualization capabilities. However, when moving to production-level, the functions and models below may be packaged into a python module and called at the user's convenience."
   ]
  },
  {
   "cell_type": "code",
   "execution_count": 1,
   "metadata": {
    "collapsed": true
   },
   "outputs": [],
   "source": [
    "import numpy as np\n",
    "import pandas as pd\n",
    "import matplotlib.pyplot as plt\n",
    "import seaborn as sns\n",
    "import scipy\n",
    "import os, sys, gc\n",
    "import glob\n",
    "import datetime\n",
    "\n",
    "color = sns.color_palette()\n",
    "\n",
    "from IPython.display import display, HTML\n",
    "\n",
    "%matplotlib inline"
   ]
  },
  {
   "cell_type": "markdown",
   "metadata": {},
   "source": [
    "## Data Exploration & Preparation"
   ]
  },
  {
   "cell_type": "code",
   "execution_count": 2,
   "metadata": {
    "collapsed": true
   },
   "outputs": [],
   "source": [
    "#Reading the data\n",
    "\n",
    "data_path = 'E-Bike_Survey_Responses.csv'\n",
    "df_raw = pd.read_csv(data_path)"
   ]
  },
  {
   "cell_type": "code",
   "execution_count": 3,
   "metadata": {},
   "outputs": [
    {
     "data": {
      "text/html": [
       "<div>\n",
       "<style>\n",
       "    .dataframe thead tr:only-child th {\n",
       "        text-align: right;\n",
       "    }\n",
       "\n",
       "    .dataframe thead th {\n",
       "        text-align: left;\n",
       "    }\n",
       "\n",
       "    .dataframe tbody tr th {\n",
       "        vertical-align: top;\n",
       "    }\n",
       "</style>\n",
       "<table border=\"1\" class=\"dataframe\">\n",
       "  <thead>\n",
       "    <tr style=\"text-align: right;\">\n",
       "      <th></th>\n",
       "      <th>Timestamp</th>\n",
       "      <th>What age range do you fall in?</th>\n",
       "      <th>Sex</th>\n",
       "      <th>How would you describe your level of physical health?</th>\n",
       "      <th>What level of education have you reached?</th>\n",
       "      <th>What is your household income?</th>\n",
       "      <th>Which category best describes your employment?</th>\n",
       "      <th>What Toronto district is your primary address located in?</th>\n",
       "      <th>On average what distance do you travel most days of the week?</th>\n",
       "      <th>On average how long is your commute?</th>\n",
       "      <th>Which transportation option do you end up using most often?</th>\n",
       "      <th>Does your household have access to any of the following private motorized vehicles?</th>\n",
       "      <th>Do you support any of the following statements?</th>\n",
       "      <th>When you use Toronto's Multi-Use Trails do you mostly</th>\n",
       "      <th>Are you aware that the Multi-Use Paths have a speed limit of 20 km/h?</th>\n",
       "      <th>Have you witnessed a collision or conflict on a trail between</th>\n",
       "      <th>Do you think more should be done to manage trail users who do not respect the 20 km/h speed limit?</th>\n",
       "      <th>Currently any kind of e-bike may use a multi-use path if they are propelled by pedaling only and those propelled by motor power may be fined</th>\n",
       "      <th>When you use Toronto's bicycle lanes do you mostly</th>\n",
       "      <th>Currently any kind of e-bike may use a bicycle lane if they are propelled by pedaling only and those propelled by motor power may be fined</th>\n",
       "      <th>With regards to illegal use of bicycles and e-bikes on sidewalks should the City</th>\n",
       "      <th>Toronto Bylaws consider personal mobility devices (such as electric wheel chairs) to be pedestrians In your opinion should the City</th>\n",
       "    </tr>\n",
       "  </thead>\n",
       "  <tbody>\n",
       "    <tr>\n",
       "      <th>0</th>\n",
       "      <td>2013-04-10 12:10</td>\n",
       "      <td>35 to 49</td>\n",
       "      <td>Male</td>\n",
       "      <td>Good</td>\n",
       "      <td>Post graduate</td>\n",
       "      <td>$100K+</td>\n",
       "      <td>Self Employed</td>\n",
       "      <td>Central Toronto York or East York</td>\n",
       "      <td>Under 2 km</td>\n",
       "      <td>15 minutes or less</td>\n",
       "      <td>scooter type e-bike</td>\n",
       "      <td>Yes - a scooter style e-bike</td>\n",
       "      <td>On scooter type e-bikes the pedals are unnecessary and should not be required Most scooter type ...</td>\n",
       "      <td>drive a motor propelled e-bike</td>\n",
       "      <td>No</td>\n",
       "      <td>pedestrians and/or runners a conflict relating to an in-line skater</td>\n",
       "      <td>No - the trails are fine as they are</td>\n",
       "      <td>The bylaw should be modified to allow any kind of e-bike including scooter type e-bikes use the ...</td>\n",
       "      <td>drive a scooter type e-bike propelled by an electric motor</td>\n",
       "      <td>The bylaw should be modified to allow e-bikes to drive in bicycle lanes using their motors and n...</td>\n",
       "      <td>be tolerant of bikes and e-bikes on the walkside if they go slow</td>\n",
       "      <td>Institute a speed limit for sidewalks</td>\n",
       "    </tr>\n",
       "    <tr>\n",
       "      <th>1</th>\n",
       "      <td>2013-04-10 12:30</td>\n",
       "      <td>18 to 34</td>\n",
       "      <td>Male</td>\n",
       "      <td>Excellent</td>\n",
       "      <td>University degree</td>\n",
       "      <td>$40K to $59K</td>\n",
       "      <td>Full Time</td>\n",
       "      <td>Central Toronto York or East York</td>\n",
       "      <td>10 - 20 km</td>\n",
       "      <td>30 - 44 minutes</td>\n",
       "      <td>scooter type e-bike</td>\n",
       "      <td>Yes - a scooter style e-bike</td>\n",
       "      <td>On scooter type e-bikes the pedals are unnecessary and should not be required Most e-bikes are a...</td>\n",
       "      <td>I very rarely use any of Toronto's Multi-Use Paths</td>\n",
       "      <td>No</td>\n",
       "      <td>I am not aware of any conflicts on the trails</td>\n",
       "      <td>No - the trails are fine as they are</td>\n",
       "      <td>No changes are necessary to the existing bylaw</td>\n",
       "      <td>drive a scooter type e-bike propelled by an electric motor</td>\n",
       "      <td>The bylaw should be modified to allow e-bikes to drive in bicycle lanes using their motors and n...</td>\n",
       "      <td>maintain the existing programs for signage education and enforcement increase signage increase e...</td>\n",
       "      <td>Do nothing</td>\n",
       "    </tr>\n",
       "    <tr>\n",
       "      <th>2</th>\n",
       "      <td>2013-04-10 12:33</td>\n",
       "      <td>50 to 64</td>\n",
       "      <td>Male</td>\n",
       "      <td>Good</td>\n",
       "      <td>University degree</td>\n",
       "      <td>$40K to $59K</td>\n",
       "      <td>Self Employed</td>\n",
       "      <td>Central Toronto York or East York</td>\n",
       "      <td>10 - 20 km</td>\n",
       "      <td>15 minutes or less</td>\n",
       "      <td>private motor vehicle (car truck SUV van motorcycle gas limited speed motorcycle or moped)</td>\n",
       "      <td>Yes - a car SUV truck or van</td>\n",
       "      <td>Most scooter type e-bikes are wider than a bicycle Most scooter type e-bikes weigh more than an ...</td>\n",
       "      <td>cycle I very rarely use any of Toronto's Multi-Use Paths</td>\n",
       "      <td>No</td>\n",
       "      <td>I am not aware of any conflicts on the trails</td>\n",
       "      <td>Yes - more signage Yes - more enforcement (ticketing) Yes - more educational programs</td>\n",
       "      <td>No changes are necessary to the existing bylaw</td>\n",
       "      <td>ride a road bicycle or a fixie</td>\n",
       "      <td>No changes are necessary to the existing bylaw</td>\n",
       "      <td>increase signage increase enforcement increase education ticket</td>\n",
       "      <td>only wheelchairs at walking speed</td>\n",
       "    </tr>\n",
       "  </tbody>\n",
       "</table>\n",
       "</div>"
      ],
      "text/plain": [
       "          Timestamp What age range do you fall in?   Sex  \\\n",
       "0  2013-04-10 12:10                       35 to 49  Male   \n",
       "1  2013-04-10 12:30                       18 to 34  Male   \n",
       "2  2013-04-10 12:33                       50 to 64  Male   \n",
       "\n",
       "  How would you describe your level of physical health?  \\\n",
       "0                                                  Good   \n",
       "1                                             Excellent   \n",
       "2                                                  Good   \n",
       "\n",
       "  What level of education have you reached? What is your household income?  \\\n",
       "0                             Post graduate                         $100K+   \n",
       "1                         University degree                   $40K to $59K   \n",
       "2                         University degree                   $40K to $59K   \n",
       "\n",
       "  Which category best describes your employment?  \\\n",
       "0                                  Self Employed   \n",
       "1                                      Full Time   \n",
       "2                                  Self Employed   \n",
       "\n",
       "  What Toronto district is your primary address located in?  \\\n",
       "0                         Central Toronto York or East York   \n",
       "1                         Central Toronto York or East York   \n",
       "2                         Central Toronto York or East York   \n",
       "\n",
       "  On average what distance do you travel most days of the week?  \\\n",
       "0                                                    Under 2 km   \n",
       "1                                                    10 - 20 km   \n",
       "2                                                    10 - 20 km   \n",
       "\n",
       "  On average how long is your commute?  \\\n",
       "0                   15 minutes or less   \n",
       "1                      30 - 44 minutes   \n",
       "2                   15 minutes or less   \n",
       "\n",
       "                                  Which transportation option do you end up using most often?  \\\n",
       "0                                                                         scooter type e-bike   \n",
       "1                                                                         scooter type e-bike   \n",
       "2  private motor vehicle (car truck SUV van motorcycle gas limited speed motorcycle or moped)   \n",
       "\n",
       "  Does your household have access to any of the following private motorized vehicles?  \\\n",
       "0                                                        Yes - a scooter style e-bike   \n",
       "1                                                        Yes - a scooter style e-bike   \n",
       "2                                                        Yes - a car SUV truck or van   \n",
       "\n",
       "                                                       Do you support any of the following statements?  \\\n",
       "0  On scooter type e-bikes the pedals are unnecessary and should not be required Most scooter type ...   \n",
       "1  On scooter type e-bikes the pedals are unnecessary and should not be required Most e-bikes are a...   \n",
       "2  Most scooter type e-bikes are wider than a bicycle Most scooter type e-bikes weigh more than an ...   \n",
       "\n",
       "      When you use Toronto's Multi-Use Trails do you mostly  \\\n",
       "0                            drive a motor propelled e-bike   \n",
       "1        I very rarely use any of Toronto's Multi-Use Paths   \n",
       "2  cycle I very rarely use any of Toronto's Multi-Use Paths   \n",
       "\n",
       "  Are you aware that the Multi-Use Paths have a speed limit of 20 km/h?  \\\n",
       "0                                                                    No   \n",
       "1                                                                    No   \n",
       "2                                                                    No   \n",
       "\n",
       "         Have you witnessed a collision or conflict on a trail between  \\\n",
       "0  pedestrians and/or runners a conflict relating to an in-line skater   \n",
       "1                        I am not aware of any conflicts on the trails   \n",
       "2                        I am not aware of any conflicts on the trails   \n",
       "\n",
       "  Do you think more should be done to manage trail users who do not respect the 20 km/h speed limit?  \\\n",
       "0                                                               No - the trails are fine as they are   \n",
       "1                                                               No - the trails are fine as they are   \n",
       "2              Yes - more signage Yes - more enforcement (ticketing) Yes - more educational programs   \n",
       "\n",
       "  Currently any kind of e-bike may use a multi-use path if they are propelled by pedaling only and those propelled by motor power may be fined   \\\n",
       "0  The bylaw should be modified to allow any kind of e-bike including scooter type e-bikes use the ...                                            \n",
       "1                                                       No changes are necessary to the existing bylaw                                            \n",
       "2                                                       No changes are necessary to the existing bylaw                                            \n",
       "\n",
       "           When you use Toronto's bicycle lanes do you mostly  \\\n",
       "0  drive a scooter type e-bike propelled by an electric motor   \n",
       "1  drive a scooter type e-bike propelled by an electric motor   \n",
       "2                              ride a road bicycle or a fixie   \n",
       "\n",
       "  Currently any kind of e-bike may use a bicycle lane if they are propelled by pedaling only and those propelled by motor power may be fined   \\\n",
       "0  The bylaw should be modified to allow e-bikes to drive in bicycle lanes using their motors and n...                                          \n",
       "1  The bylaw should be modified to allow e-bikes to drive in bicycle lanes using their motors and n...                                          \n",
       "2                                                       No changes are necessary to the existing bylaw                                          \n",
       "\n",
       "                     With regards to illegal use of bicycles and e-bikes on sidewalks should the City   \\\n",
       "0                                     be tolerant of bikes and e-bikes on the walkside if they go slow   \n",
       "1  maintain the existing programs for signage education and enforcement increase signage increase e...   \n",
       "2                                      increase signage increase enforcement increase education ticket   \n",
       "\n",
       "  Toronto Bylaws consider personal mobility devices (such as electric wheel chairs) to be pedestrians In your opinion should the City  \n",
       "0                                                                Institute a speed limit for sidewalks                                 \n",
       "1                                                                                           Do nothing                                 \n",
       "2                                                                    only wheelchairs at walking speed                                 "
      ]
     },
     "execution_count": 3,
     "metadata": {},
     "output_type": "execute_result"
    }
   ],
   "source": [
    "pd.set_option('max_colwidth', 100)\n",
    "pd.set_option('display.max_columns', 30)\n",
    "pd.set_option('display.max_rows', 50)\n",
    "\n",
    "df_raw.head(3)"
   ]
  },
  {
   "cell_type": "code",
   "execution_count": 4,
   "metadata": {},
   "outputs": [
    {
     "name": "stdout",
     "output_type": "stream",
     "text": [
      "<class 'pandas.core.frame.DataFrame'>\n",
      "RangeIndex: 2238 entries, 0 to 2237\n",
      "Data columns (total 22 columns):\n",
      "Timestamp                                                                                                                                        2238 non-null object\n",
      "What age range do you fall in?                                                                                                                   2234 non-null object\n",
      "Sex                                                                                                                                              2221 non-null object\n",
      "How would you describe your level of physical health?                                                                                            2227 non-null object\n",
      "What level of education have you reached?                                                                                                        2220 non-null object\n",
      "What is your household income?                                                                                                                   2178 non-null object\n",
      "Which category best describes your employment?                                                                                                   2223 non-null object\n",
      "What Toronto district is your primary address located in?                                                                                        2237 non-null object\n",
      "On average what distance do you travel most days of the week?                                                                                    2237 non-null object\n",
      "On average how long is your commute?                                                                                                             2237 non-null object\n",
      "Which transportation option do you end up using most often?                                                                                      2238 non-null object\n",
      "Does your household have access to any of the following private motorized vehicles?                                                              2238 non-null object\n",
      "Do you support any of the following statements?                                                                                                  2238 non-null object\n",
      "When you use Toronto's Multi-Use Trails do you mostly                                                                                            2238 non-null object\n",
      "Are you aware that the Multi-Use Paths have a speed limit of 20 km/h?                                                                            2238 non-null object\n",
      "Have you witnessed a collision or conflict on a trail between                                                                                    2238 non-null object\n",
      "Do you think more should be done to manage trail users who do not respect the 20 km/h speed limit?                                               2237 non-null object\n",
      "Currently any kind of e-bike may use a multi-use path if they are propelled by pedaling only and those propelled by motor power may be fined     2238 non-null object\n",
      "When you use Toronto's bicycle lanes do you mostly                                                                                               2238 non-null object\n",
      "Currently any kind of e-bike may use a bicycle lane if they are propelled by pedaling only and those propelled by motor power may be fined       2238 non-null object\n",
      "With regards to illegal use of bicycles and e-bikes on sidewalks should the City                                                                 2238 non-null object\n",
      "Toronto Bylaws consider personal mobility devices (such as electric wheel chairs) to be pedestrians In your opinion should the City              2232 non-null object\n",
      "dtypes: object(22)\n",
      "memory usage: 384.7+ KB\n"
     ]
    }
   ],
   "source": [
    "df_raw.info()"
   ]
  },
  {
   "cell_type": "code",
   "execution_count": 25,
   "metadata": {},
   "outputs": [
    {
     "data": {
      "text/html": [
       "<div>\n",
       "<style>\n",
       "    .dataframe thead tr:only-child th {\n",
       "        text-align: right;\n",
       "    }\n",
       "\n",
       "    .dataframe thead th {\n",
       "        text-align: left;\n",
       "    }\n",
       "\n",
       "    .dataframe tbody tr th {\n",
       "        vertical-align: top;\n",
       "    }\n",
       "</style>\n",
       "<table border=\"1\" class=\"dataframe\">\n",
       "  <thead>\n",
       "    <tr style=\"text-align: right;\">\n",
       "      <th></th>\n",
       "      <th>Timestamp</th>\n",
       "      <th>What age range do you fall in?</th>\n",
       "      <th>Sex</th>\n",
       "      <th>How would you describe your level of physical health?</th>\n",
       "      <th>What level of education have you reached?</th>\n",
       "      <th>What is your household income?</th>\n",
       "      <th>Which category best describes your employment?</th>\n",
       "      <th>What Toronto district is your primary address located in?</th>\n",
       "      <th>On average what distance do you travel most days of the week?</th>\n",
       "      <th>On average how long is your commute?</th>\n",
       "      <th>Which transportation option do you end up using most often?</th>\n",
       "      <th>Does your household have access to any of the following private motorized vehicles?</th>\n",
       "      <th>Do you support any of the following statements?</th>\n",
       "      <th>When you use Toronto's Multi-Use Trails do you mostly</th>\n",
       "      <th>Are you aware that the Multi-Use Paths have a speed limit of 20 km/h?</th>\n",
       "      <th>Have you witnessed a collision or conflict on a trail between</th>\n",
       "      <th>Do you think more should be done to manage trail users who do not respect the 20 km/h speed limit?</th>\n",
       "      <th>Currently any kind of e-bike may use a multi-use path if they are propelled by pedaling only and those propelled by motor power may be fined</th>\n",
       "      <th>When you use Toronto's bicycle lanes do you mostly</th>\n",
       "      <th>Currently any kind of e-bike may use a bicycle lane if they are propelled by pedaling only and those propelled by motor power may be fined</th>\n",
       "      <th>With regards to illegal use of bicycles and e-bikes on sidewalks should the City</th>\n",
       "      <th>Toronto Bylaws consider personal mobility devices (such as electric wheel chairs) to be pedestrians In your opinion should the City</th>\n",
       "    </tr>\n",
       "  </thead>\n",
       "  <tbody>\n",
       "    <tr>\n",
       "      <th>23</th>\n",
       "      <td>2013-04-10 13:57</td>\n",
       "      <td>50 to 64</td>\n",
       "      <td>Male</td>\n",
       "      <td>Very good</td>\n",
       "      <td>Post graduate</td>\n",
       "      <td>NaN</td>\n",
       "      <td>Self Employed</td>\n",
       "      <td>Central Toronto York or East York</td>\n",
       "      <td>Under 2 km</td>\n",
       "      <td>15 minutes or less</td>\n",
       "      <td>bicycle</td>\n",
       "      <td>Yes - a car SUV truck or van</td>\n",
       "      <td>scooter style e-bikes are different than pedal assisted bicycle type e-bikes and should not be c...</td>\n",
       "      <td>cycle</td>\n",
       "      <td>No</td>\n",
       "      <td>a conflict between cyclists and pedestrians a conflict between two cyclists</td>\n",
       "      <td>Yes - more signage Yes - more enforcement (ticketing)</td>\n",
       "      <td>Motorized vehicles should generally not be allowed on the trail but a special provision should b...</td>\n",
       "      <td>ride a commuter or cruiser style bicycle</td>\n",
       "      <td>No changes are necessary to the existing bylaw The bylaw should be modified to allow e-bikes to ...</td>\n",
       "      <td>increase signage increase enforcement</td>\n",
       "      <td>Update the definition of a personal mobility device so that they must travel at speeds close to ...</td>\n",
       "    </tr>\n",
       "    <tr>\n",
       "      <th>40</th>\n",
       "      <td>2013-04-10 16:18</td>\n",
       "      <td>35 to 49</td>\n",
       "      <td>Female</td>\n",
       "      <td>Very good</td>\n",
       "      <td>University degree</td>\n",
       "      <td>$100K+</td>\n",
       "      <td>Full Time</td>\n",
       "      <td>Central Toronto York or East York</td>\n",
       "      <td>5 - 10 km</td>\n",
       "      <td>16 - 29 minutes</td>\n",
       "      <td>bicycle</td>\n",
       "      <td>also motorcycle - not allowing more than one choice</td>\n",
       "      <td>scooter style e-bikes are different than pedal assisted bicycle type e-bikes and should not be c...</td>\n",
       "      <td>cycle</td>\n",
       "      <td>No</td>\n",
       "      <td>pedestrians and/or runners a conflict relating to a dog(s) a conflict relating to an in-line ska...</td>\n",
       "      <td>Yes - more signage Yes - more educational programs</td>\n",
       "      <td>Motorized vehicles should generally not be allowed on the trail but a special provision should b...</td>\n",
       "      <td>ride a commuter or cruiser style bicycle</td>\n",
       "      <td>Motorized vehicles should generally not be allowed in bicycle lanes but a special provision shou...</td>\n",
       "      <td>maintain the existing programs for signage education and enforcement</td>\n",
       "      <td>NaN</td>\n",
       "    </tr>\n",
       "    <tr>\n",
       "      <th>60</th>\n",
       "      <td>2013-04-10 18:24</td>\n",
       "      <td>35 to 49</td>\n",
       "      <td>Female</td>\n",
       "      <td>Excellent</td>\n",
       "      <td>University degree</td>\n",
       "      <td>NaN</td>\n",
       "      <td>Full Time</td>\n",
       "      <td>Central Toronto York or East York</td>\n",
       "      <td>Over 35 km</td>\n",
       "      <td>45 minutes - 1 hour</td>\n",
       "      <td>private motor vehicle (car truck SUV van motorcycle gas limited speed motorcycle or moped)</td>\n",
       "      <td>Yes - a car SUV truck or van</td>\n",
       "      <td>E-bikes should require a license E-bikes should be required to have insurance</td>\n",
       "      <td>walk run skate cycle</td>\n",
       "      <td>No</td>\n",
       "      <td>I am not aware of any conflicts on the trails</td>\n",
       "      <td>Yes - more educational programs</td>\n",
       "      <td>No changes are necessary to the existing bylaw</td>\n",
       "      <td>ride a road bicycle or a fixie</td>\n",
       "      <td>No changes are necessary to the existing bylaw</td>\n",
       "      <td>increase enforcement</td>\n",
       "      <td>Update the definition of a personal mobility device so that they must travel at speeds close to ...</td>\n",
       "    </tr>\n",
       "    <tr>\n",
       "      <th>215</th>\n",
       "      <td>2013-04-12 10:08</td>\n",
       "      <td>35 to 49</td>\n",
       "      <td>Female</td>\n",
       "      <td>NaN</td>\n",
       "      <td>University degree</td>\n",
       "      <td>$100K+</td>\n",
       "      <td>Full Time</td>\n",
       "      <td>Scarborough</td>\n",
       "      <td>20 -35 km</td>\n",
       "      <td>30 - 44 minutes</td>\n",
       "      <td>transit</td>\n",
       "      <td>Yes - a car SUV truck or van</td>\n",
       "      <td>scooter style e-bikes are different than pedal assisted bicycle type e-bikes and should not be c...</td>\n",
       "      <td>cycle</td>\n",
       "      <td>No</td>\n",
       "      <td>a conflict between cyclists and pedestrians witnessed many 'almost' accidents</td>\n",
       "      <td>No - the trails are fine as they are if the speed limit on trails is 20kms where will the cyclis...</td>\n",
       "      <td>Motorized vehicles should generally not be allowed on the trail but a special provision should b...</td>\n",
       "      <td>ride a road bicycle or a fixie</td>\n",
       "      <td>The bylaw should be modified to allow all kinds of e-bikes to drive in bicycle lanes without ped...</td>\n",
       "      <td>increase signage increase education</td>\n",
       "      <td>Institute a speed limit for sidewalks</td>\n",
       "    </tr>\n",
       "    <tr>\n",
       "      <th>232</th>\n",
       "      <td>2013-04-12 10:18</td>\n",
       "      <td>35 to 49</td>\n",
       "      <td>Male</td>\n",
       "      <td>Fairly good</td>\n",
       "      <td>NaN</td>\n",
       "      <td>$100K+</td>\n",
       "      <td>Full Time</td>\n",
       "      <td>Central Toronto York or East York</td>\n",
       "      <td>Over 35 km</td>\n",
       "      <td>30 - 44 minutes</td>\n",
       "      <td>private motor vehicle (car truck SUV van motorcycle gas limited speed motorcycle or moped)</td>\n",
       "      <td>Yes - a car SUV truck or van</td>\n",
       "      <td>scooter style e-bikes are different than pedal assisted bicycle type e-bikes and should not be c...</td>\n",
       "      <td>walk with a stroller young child or pet</td>\n",
       "      <td>No</td>\n",
       "      <td>a conflict between two cyclists a conflict between e-biker and a cyclist</td>\n",
       "      <td>Yes - more signage</td>\n",
       "      <td>The bylaw should be modified to allow the 'pedal assist bicycle' type of e-bikes</td>\n",
       "      <td>ride a commuter or cruiser style bicycle</td>\n",
       "      <td>The bylaw should be modified to allow all kinds of e-bikes to drive in bicycle lanes without ped...</td>\n",
       "      <td>increase signage increase enforcement increase education</td>\n",
       "      <td>Update the definition of a personal mobility device so that they must travel at speeds close to ...</td>\n",
       "    </tr>\n",
       "  </tbody>\n",
       "</table>\n",
       "</div>"
      ],
      "text/plain": [
       "            Timestamp What age range do you fall in?     Sex  \\\n",
       "23   2013-04-10 13:57                       50 to 64    Male   \n",
       "40   2013-04-10 16:18                       35 to 49  Female   \n",
       "60   2013-04-10 18:24                       35 to 49  Female   \n",
       "215  2013-04-12 10:08                       35 to 49  Female   \n",
       "232  2013-04-12 10:18                       35 to 49    Male   \n",
       "\n",
       "    How would you describe your level of physical health?  \\\n",
       "23                                              Very good   \n",
       "40                                              Very good   \n",
       "60                                              Excellent   \n",
       "215                                                   NaN   \n",
       "232                                           Fairly good   \n",
       "\n",
       "    What level of education have you reached? What is your household income?  \\\n",
       "23                              Post graduate                            NaN   \n",
       "40                          University degree                         $100K+   \n",
       "60                          University degree                            NaN   \n",
       "215                         University degree                         $100K+   \n",
       "232                                       NaN                         $100K+   \n",
       "\n",
       "    Which category best describes your employment?  \\\n",
       "23                                   Self Employed   \n",
       "40                                       Full Time   \n",
       "60                                       Full Time   \n",
       "215                                      Full Time   \n",
       "232                                      Full Time   \n",
       "\n",
       "    What Toronto district is your primary address located in?  \\\n",
       "23                          Central Toronto York or East York   \n",
       "40                          Central Toronto York or East York   \n",
       "60                          Central Toronto York or East York   \n",
       "215                                               Scarborough   \n",
       "232                         Central Toronto York or East York   \n",
       "\n",
       "    On average what distance do you travel most days of the week?  \\\n",
       "23                                                     Under 2 km   \n",
       "40                                                      5 - 10 km   \n",
       "60                                                     Over 35 km   \n",
       "215                                                     20 -35 km   \n",
       "232                                                    Over 35 km   \n",
       "\n",
       "    On average how long is your commute?  \\\n",
       "23                    15 minutes or less   \n",
       "40                       16 - 29 minutes   \n",
       "60                   45 minutes - 1 hour   \n",
       "215                      30 - 44 minutes   \n",
       "232                      30 - 44 minutes   \n",
       "\n",
       "                                    Which transportation option do you end up using most often?  \\\n",
       "23                                                                                      bicycle   \n",
       "40                                                                                      bicycle   \n",
       "60   private motor vehicle (car truck SUV van motorcycle gas limited speed motorcycle or moped)   \n",
       "215                                                                                     transit   \n",
       "232  private motor vehicle (car truck SUV van motorcycle gas limited speed motorcycle or moped)   \n",
       "\n",
       "    Does your household have access to any of the following private motorized vehicles?  \\\n",
       "23                                                         Yes - a car SUV truck or van   \n",
       "40                                  also motorcycle - not allowing more than one choice   \n",
       "60                                                         Yes - a car SUV truck or van   \n",
       "215                                                        Yes - a car SUV truck or van   \n",
       "232                                                        Yes - a car SUV truck or van   \n",
       "\n",
       "                                                         Do you support any of the following statements?  \\\n",
       "23   scooter style e-bikes are different than pedal assisted bicycle type e-bikes and should not be c...   \n",
       "40   scooter style e-bikes are different than pedal assisted bicycle type e-bikes and should not be c...   \n",
       "60                         E-bikes should require a license E-bikes should be required to have insurance   \n",
       "215  scooter style e-bikes are different than pedal assisted bicycle type e-bikes and should not be c...   \n",
       "232  scooter style e-bikes are different than pedal assisted bicycle type e-bikes and should not be c...   \n",
       "\n",
       "    When you use Toronto's Multi-Use Trails do you mostly  \\\n",
       "23                                                  cycle   \n",
       "40                                                  cycle   \n",
       "60                                   walk run skate cycle   \n",
       "215                                                 cycle   \n",
       "232               walk with a stroller young child or pet   \n",
       "\n",
       "    Are you aware that the Multi-Use Paths have a speed limit of 20 km/h?  \\\n",
       "23                                                                     No   \n",
       "40                                                                     No   \n",
       "60                                                                     No   \n",
       "215                                                                    No   \n",
       "232                                                                    No   \n",
       "\n",
       "                                           Have you witnessed a collision or conflict on a trail between  \\\n",
       "23                           a conflict between cyclists and pedestrians a conflict between two cyclists   \n",
       "40   pedestrians and/or runners a conflict relating to a dog(s) a conflict relating to an in-line ska...   \n",
       "60                                                         I am not aware of any conflicts on the trails   \n",
       "215                        a conflict between cyclists and pedestrians witnessed many 'almost' accidents   \n",
       "232                             a conflict between two cyclists a conflict between e-biker and a cyclist   \n",
       "\n",
       "      Do you think more should be done to manage trail users who do not respect the 20 km/h speed limit?  \\\n",
       "23                                                 Yes - more signage Yes - more enforcement (ticketing)   \n",
       "40                                                    Yes - more signage Yes - more educational programs   \n",
       "60                                                                       Yes - more educational programs   \n",
       "215  No - the trails are fine as they are if the speed limit on trails is 20kms where will the cyclis...   \n",
       "232                                                                                   Yes - more signage   \n",
       "\n",
       "    Currently any kind of e-bike may use a multi-use path if they are propelled by pedaling only and those propelled by motor power may be fined   \\\n",
       "23   Motorized vehicles should generally not be allowed on the trail but a special provision should b...                                            \n",
       "40   Motorized vehicles should generally not be allowed on the trail but a special provision should b...                                            \n",
       "60                                                        No changes are necessary to the existing bylaw                                            \n",
       "215  Motorized vehicles should generally not be allowed on the trail but a special provision should b...                                            \n",
       "232                     The bylaw should be modified to allow the 'pedal assist bicycle' type of e-bikes                                            \n",
       "\n",
       "    When you use Toronto's bicycle lanes do you mostly  \\\n",
       "23            ride a commuter or cruiser style bicycle   \n",
       "40            ride a commuter or cruiser style bicycle   \n",
       "60                      ride a road bicycle or a fixie   \n",
       "215                     ride a road bicycle or a fixie   \n",
       "232           ride a commuter or cruiser style bicycle   \n",
       "\n",
       "    Currently any kind of e-bike may use a bicycle lane if they are propelled by pedaling only and those propelled by motor power may be fined   \\\n",
       "23   No changes are necessary to the existing bylaw The bylaw should be modified to allow e-bikes to ...                                          \n",
       "40   Motorized vehicles should generally not be allowed in bicycle lanes but a special provision shou...                                          \n",
       "60                                                        No changes are necessary to the existing bylaw                                          \n",
       "215  The bylaw should be modified to allow all kinds of e-bikes to drive in bicycle lanes without ped...                                          \n",
       "232  The bylaw should be modified to allow all kinds of e-bikes to drive in bicycle lanes without ped...                                          \n",
       "\n",
       "    With regards to illegal use of bicycles and e-bikes on sidewalks should the City   \\\n",
       "23                                              increase signage increase enforcement   \n",
       "40               maintain the existing programs for signage education and enforcement   \n",
       "60                                                               increase enforcement   \n",
       "215                                               increase signage increase education   \n",
       "232                          increase signage increase enforcement increase education   \n",
       "\n",
       "    Toronto Bylaws consider personal mobility devices (such as electric wheel chairs) to be pedestrians In your opinion should the City  \n",
       "23   Update the definition of a personal mobility device so that they must travel at speeds close to ...                                 \n",
       "40                                                                                                   NaN                                 \n",
       "60   Update the definition of a personal mobility device so that they must travel at speeds close to ...                                 \n",
       "215                                                                Institute a speed limit for sidewalks                                 \n",
       "232  Update the definition of a personal mobility device so that they must travel at speeds close to ...                                 "
      ]
     },
     "execution_count": 25,
     "metadata": {},
     "output_type": "execute_result"
    }
   ],
   "source": [
    "#Missing values\n",
    "\n",
    "df_raw.loc[df_raw.isnull().any(axis=1)].head()"
   ]
  },
  {
   "cell_type": "code",
   "execution_count": 5,
   "metadata": {},
   "outputs": [
    {
     "data": {
      "text/html": [
       "<div>\n",
       "<style>\n",
       "    .dataframe thead tr:only-child th {\n",
       "        text-align: right;\n",
       "    }\n",
       "\n",
       "    .dataframe thead th {\n",
       "        text-align: left;\n",
       "    }\n",
       "\n",
       "    .dataframe tbody tr th {\n",
       "        vertical-align: top;\n",
       "    }\n",
       "</style>\n",
       "<table border=\"1\" class=\"dataframe\">\n",
       "  <thead>\n",
       "    <tr style=\"text-align: right;\">\n",
       "      <th></th>\n",
       "      <th>Timestamp</th>\n",
       "      <th>What age range do you fall in?</th>\n",
       "      <th>Sex</th>\n",
       "      <th>How would you describe your level of physical health?</th>\n",
       "      <th>What level of education have you reached?</th>\n",
       "      <th>What is your household income?</th>\n",
       "      <th>Which category best describes your employment?</th>\n",
       "      <th>What Toronto district is your primary address located in?</th>\n",
       "      <th>On average what distance do you travel most days of the week?</th>\n",
       "      <th>On average how long is your commute?</th>\n",
       "      <th>Which transportation option do you end up using most often?</th>\n",
       "      <th>Does your household have access to any of the following private motorized vehicles?</th>\n",
       "      <th>Do you support any of the following statements?</th>\n",
       "      <th>When you use Toronto's Multi-Use Trails do you mostly</th>\n",
       "      <th>Are you aware that the Multi-Use Paths have a speed limit of 20 km/h?</th>\n",
       "      <th>Have you witnessed a collision or conflict on a trail between</th>\n",
       "      <th>Do you think more should be done to manage trail users who do not respect the 20 km/h speed limit?</th>\n",
       "      <th>Currently any kind of e-bike may use a multi-use path if they are propelled by pedaling only and those propelled by motor power may be fined</th>\n",
       "      <th>When you use Toronto's bicycle lanes do you mostly</th>\n",
       "      <th>Currently any kind of e-bike may use a bicycle lane if they are propelled by pedaling only and those propelled by motor power may be fined</th>\n",
       "      <th>With regards to illegal use of bicycles and e-bikes on sidewalks should the City</th>\n",
       "      <th>Toronto Bylaws consider personal mobility devices (such as electric wheel chairs) to be pedestrians In your opinion should the City</th>\n",
       "    </tr>\n",
       "  </thead>\n",
       "  <tbody>\n",
       "    <tr>\n",
       "      <th>count</th>\n",
       "      <td>2238</td>\n",
       "      <td>2234</td>\n",
       "      <td>2221</td>\n",
       "      <td>2227</td>\n",
       "      <td>2220</td>\n",
       "      <td>2178</td>\n",
       "      <td>2223</td>\n",
       "      <td>2237</td>\n",
       "      <td>2237</td>\n",
       "      <td>2237</td>\n",
       "      <td>2238</td>\n",
       "      <td>2238</td>\n",
       "      <td>2238</td>\n",
       "      <td>2238</td>\n",
       "      <td>2238</td>\n",
       "      <td>2238</td>\n",
       "      <td>2237</td>\n",
       "      <td>2238</td>\n",
       "      <td>2238</td>\n",
       "      <td>2238</td>\n",
       "      <td>2238</td>\n",
       "      <td>2232</td>\n",
       "    </tr>\n",
       "    <tr>\n",
       "      <th>unique</th>\n",
       "      <td>1722</td>\n",
       "      <td>5</td>\n",
       "      <td>12</td>\n",
       "      <td>12</td>\n",
       "      <td>24</td>\n",
       "      <td>6</td>\n",
       "      <td>33</td>\n",
       "      <td>68</td>\n",
       "      <td>5</td>\n",
       "      <td>6</td>\n",
       "      <td>33</td>\n",
       "      <td>123</td>\n",
       "      <td>534</td>\n",
       "      <td>89</td>\n",
       "      <td>2</td>\n",
       "      <td>221</td>\n",
       "      <td>134</td>\n",
       "      <td>25</td>\n",
       "      <td>69</td>\n",
       "      <td>258</td>\n",
       "      <td>224</td>\n",
       "      <td>81</td>\n",
       "    </tr>\n",
       "    <tr>\n",
       "      <th>top</th>\n",
       "      <td>2013-04-12 10:23</td>\n",
       "      <td>35 to 49</td>\n",
       "      <td>Male</td>\n",
       "      <td>Very good</td>\n",
       "      <td>University degree</td>\n",
       "      <td>$100K+</td>\n",
       "      <td>Full Time</td>\n",
       "      <td>Central Toronto York or East York</td>\n",
       "      <td>5 - 10 km</td>\n",
       "      <td>16 - 29 minutes</td>\n",
       "      <td>bicycle</td>\n",
       "      <td>Yes - a car SUV truck or van</td>\n",
       "      <td>scooter style e-bikes are different than pedal assisted bicycle type e-bikes and should not be c...</td>\n",
       "      <td>cycle</td>\n",
       "      <td>No</td>\n",
       "      <td>I am not aware of any conflicts on the trails</td>\n",
       "      <td>No - the trails are fine as they are</td>\n",
       "      <td>No changes are necessary to the existing bylaw</td>\n",
       "      <td>ride a commuter or cruiser style bicycle</td>\n",
       "      <td>No changes are necessary to the existing bylaw</td>\n",
       "      <td>maintain the existing programs for signage education and enforcement</td>\n",
       "      <td>Update the definition of a personal mobility device so that they must travel at speeds close to ...</td>\n",
       "    </tr>\n",
       "    <tr>\n",
       "      <th>freq</th>\n",
       "      <td>7</td>\n",
       "      <td>863</td>\n",
       "      <td>1554</td>\n",
       "      <td>891</td>\n",
       "      <td>895</td>\n",
       "      <td>831</td>\n",
       "      <td>1405</td>\n",
       "      <td>1634</td>\n",
       "      <td>847</td>\n",
       "      <td>782</td>\n",
       "      <td>777</td>\n",
       "      <td>1146</td>\n",
       "      <td>84</td>\n",
       "      <td>738</td>\n",
       "      <td>1131</td>\n",
       "      <td>847</td>\n",
       "      <td>646</td>\n",
       "      <td>811</td>\n",
       "      <td>705</td>\n",
       "      <td>664</td>\n",
       "      <td>493</td>\n",
       "      <td>1379</td>\n",
       "    </tr>\n",
       "  </tbody>\n",
       "</table>\n",
       "</div>"
      ],
      "text/plain": [
       "               Timestamp What age range do you fall in?   Sex  \\\n",
       "count               2238                           2234  2221   \n",
       "unique              1722                              5    12   \n",
       "top     2013-04-12 10:23                       35 to 49  Male   \n",
       "freq                   7                            863  1554   \n",
       "\n",
       "       How would you describe your level of physical health?  \\\n",
       "count                                                   2227   \n",
       "unique                                                    12   \n",
       "top                                                Very good   \n",
       "freq                                                     891   \n",
       "\n",
       "       What level of education have you reached?  \\\n",
       "count                                       2220   \n",
       "unique                                        24   \n",
       "top                            University degree   \n",
       "freq                                         895   \n",
       "\n",
       "       What is your household income?  \\\n",
       "count                            2178   \n",
       "unique                              6   \n",
       "top                            $100K+   \n",
       "freq                              831   \n",
       "\n",
       "       Which category best describes your employment?  \\\n",
       "count                                            2223   \n",
       "unique                                             33   \n",
       "top                                         Full Time   \n",
       "freq                                             1405   \n",
       "\n",
       "       What Toronto district is your primary address located in?  \\\n",
       "count                                                       2237   \n",
       "unique                                                        68   \n",
       "top                            Central Toronto York or East York   \n",
       "freq                                                        1634   \n",
       "\n",
       "       On average what distance do you travel most days of the week?  \\\n",
       "count                                                           2237   \n",
       "unique                                                             5   \n",
       "top                                                        5 - 10 km   \n",
       "freq                                                             847   \n",
       "\n",
       "       On average how long is your commute?  \\\n",
       "count                                  2237   \n",
       "unique                                    6   \n",
       "top                         16 - 29 minutes   \n",
       "freq                                    782   \n",
       "\n",
       "       Which transportation option do you end up using most often?  \\\n",
       "count                                                         2238   \n",
       "unique                                                          33   \n",
       "top                                                        bicycle   \n",
       "freq                                                           777   \n",
       "\n",
       "       Does your household have access to any of the following private motorized vehicles?  \\\n",
       "count                                                                                 2238   \n",
       "unique                                                                                 123   \n",
       "top                                                           Yes - a car SUV truck or van   \n",
       "freq                                                                                  1146   \n",
       "\n",
       "                                                            Do you support any of the following statements?  \\\n",
       "count                                                                                                  2238   \n",
       "unique                                                                                                  534   \n",
       "top     scooter style e-bikes are different than pedal assisted bicycle type e-bikes and should not be c...   \n",
       "freq                                                                                                     84   \n",
       "\n",
       "       When you use Toronto's Multi-Use Trails do you mostly  \\\n",
       "count                                                   2238   \n",
       "unique                                                    89   \n",
       "top                                                    cycle   \n",
       "freq                                                     738   \n",
       "\n",
       "       Are you aware that the Multi-Use Paths have a speed limit of 20 km/h?  \\\n",
       "count                                                                   2238   \n",
       "unique                                                                     2   \n",
       "top                                                                       No   \n",
       "freq                                                                    1131   \n",
       "\n",
       "       Have you witnessed a collision or conflict on a trail between  \\\n",
       "count                                                           2238   \n",
       "unique                                                           221   \n",
       "top                    I am not aware of any conflicts on the trails   \n",
       "freq                                                             847   \n",
       "\n",
       "       Do you think more should be done to manage trail users who do not respect the 20 km/h speed limit?  \\\n",
       "count                                                                                                2237   \n",
       "unique                                                                                                134   \n",
       "top                                                                  No - the trails are fine as they are   \n",
       "freq                                                                                                  646   \n",
       "\n",
       "       Currently any kind of e-bike may use a multi-use path if they are propelled by pedaling only and those propelled by motor power may be fined   \\\n",
       "count                                                                                                  2238                                            \n",
       "unique                                                                                                   25                                            \n",
       "top                                                          No changes are necessary to the existing bylaw                                            \n",
       "freq                                                                                                    811                                            \n",
       "\n",
       "       When you use Toronto's bicycle lanes do you mostly  \\\n",
       "count                                                2238   \n",
       "unique                                                 69   \n",
       "top              ride a commuter or cruiser style bicycle   \n",
       "freq                                                  705   \n",
       "\n",
       "       Currently any kind of e-bike may use a bicycle lane if they are propelled by pedaling only and those propelled by motor power may be fined   \\\n",
       "count                                                                                                  2238                                          \n",
       "unique                                                                                                  258                                          \n",
       "top                                                          No changes are necessary to the existing bylaw                                          \n",
       "freq                                                                                                    664                                          \n",
       "\n",
       "       With regards to illegal use of bicycles and e-bikes on sidewalks should the City   \\\n",
       "count                                                                               2238   \n",
       "unique                                                                               224   \n",
       "top                 maintain the existing programs for signage education and enforcement   \n",
       "freq                                                                                 493   \n",
       "\n",
       "       Toronto Bylaws consider personal mobility devices (such as electric wheel chairs) to be pedestrians In your opinion should the City  \n",
       "count                                                                                                  2232                                 \n",
       "unique                                                                                                   81                                 \n",
       "top     Update the definition of a personal mobility device so that they must travel at speeds close to ...                                 \n",
       "freq                                                                                                   1379                                 "
      ]
     },
     "execution_count": 5,
     "metadata": {},
     "output_type": "execute_result"
    }
   ],
   "source": [
    "df_raw.describe()"
   ]
  },
  {
   "cell_type": "markdown",
   "metadata": {},
   "source": [
    "### Note\n",
    "\n",
    "There are a lot of complicated text responses, which will provide some difficulty in incorporating that data with a model. From the `unique` field in `describe`, we see that the low unique counts indicate that most of the responses are fixed and not freely typed. The ones that have a high `unique` count are the ones that ask the responder to indicate *'any of the following'* responses.\n",
    "\n",
    "In order to input these variables into a ML model, we must encode the columns into a numerical label.\n",
    "\n",
    "First, we must determine which columns are **single-answer** and which are **multi-answer**. In addition to looking at the question title, we can take a look at the unique responses for each column. \n",
    "\n",
    "(This may be expediated if we had access to the original survey)"
   ]
  },
  {
   "cell_type": "code",
   "execution_count": 6,
   "metadata": {},
   "outputs": [
    {
     "name": "stdout",
     "output_type": "stream",
     "text": [
      "\n",
      "---- Timestamp ---\n",
      "\n"
     ]
    },
    {
     "data": {
      "text/plain": [
       "2013-04-12 10:23    7\n",
       "2013-04-12 11:19    7\n",
       "2013-04-12 11:56    6\n",
       "2013-04-12 10:44    6\n",
       "2013-04-12 9:38     6\n",
       "2013-04-12 11:36    6\n",
       "2013-04-12 11:29    6\n",
       "2013-04-12 10:54    5\n",
       "2013-04-12 9:55     5\n",
       "2013-04-12 9:31     5\n",
       "2013-04-12 10:50    5\n",
       "2013-04-12 12:39    5\n",
       "2013-04-12 10:06    5\n",
       "2013-04-12 10:08    5\n",
       "2013-04-12 11:42    5\n",
       "2013-04-12 11:58    5\n",
       "2013-04-12 10:37    5\n",
       "2013-04-12 9:43     5\n",
       "2013-04-12 10:11    5\n",
       "2013-04-12 9:51     5\n",
       "2013-04-12 11:06    5\n",
       "2013-04-12 10:46    5\n",
       "2013-04-12 10:18    4\n",
       "2013-04-12 10:34    4\n",
       "2013-04-12 13:06    4\n",
       "                   ..\n",
       "2013-04-10 19:13    1\n",
       "2013-04-13 13:13    1\n",
       "2013-04-10 12:51    1\n",
       "2013-04-18 8:14     1\n",
       "2013-04-10 13:21    1\n",
       "2013-04-30 15:39    1\n",
       "2013-04-15 12:38    1\n",
       "2013-04-10 18:09    1\n",
       "2013-05-03 17:42    1\n",
       "2013-04-10 14:13    1\n",
       "2013-04-15 10:30    1\n",
       "2013-04-10 23:26    1\n",
       "2013-04-15 11:54    1\n",
       "2013-04-19 10:55    1\n",
       "2013-04-15 14:47    1\n",
       "2013-05-05 17:33    1\n",
       "2013-04-13 23:36    1\n",
       "2013-05-06 22:28    1\n",
       "2013-05-07 12:40    1\n",
       "2013-04-14 1:38     1\n",
       "2013-04-13 9:24     1\n",
       "2013-04-30 22:09    1\n",
       "2013-04-12 14:52    1\n",
       "2013-04-15 8:43     1\n",
       "2013-04-12 8:38     1\n",
       "Name: Timestamp, Length: 1722, dtype: int64"
      ]
     },
     "metadata": {},
     "output_type": "display_data"
    },
    {
     "name": "stdout",
     "output_type": "stream",
     "text": [
      "\n",
      "---- What age range do you fall in? ---\n",
      "\n"
     ]
    },
    {
     "data": {
      "text/plain": [
       "35 to 49            863\n",
       "18 to 34            789\n",
       "50 to 64            463\n",
       "65 years or more    111\n",
       "17 or younger         8\n",
       "Name: What age range do you fall in?, dtype: int64"
      ]
     },
     "metadata": {},
     "output_type": "display_data"
    },
    {
     "name": "stdout",
     "output_type": "stream",
     "text": [
      "\n",
      "---- Sex ---\n",
      "\n"
     ]
    },
    {
     "data": {
      "text/plain": [
       "Male                       1554\n",
       "Female                      657\n",
       "Genderqueer                   1\n",
       "they                          1\n",
       "fifth                         1\n",
       "please                        1\n",
       "Irrelevant                    1\n",
       "prefer not to disclose        1\n",
       "Transgender                   1\n",
       "trans                         1\n",
       "Trans Female                  1\n",
       "unspecified                   1\n",
       "Name: Sex, dtype: int64"
      ]
     },
     "metadata": {},
     "output_type": "display_data"
    },
    {
     "name": "stdout",
     "output_type": "stream",
     "text": [
      "\n",
      "---- How would you describe your level of physical health? ---\n",
      "\n"
     ]
    },
    {
     "data": {
      "text/plain": [
       "Very good                                    891\n",
       "Good                                         667\n",
       "Excellent                                    411\n",
       "Fairly good                                  210\n",
       "Poor                                          41\n",
       "healing fractured heel                         1\n",
       "healthy but with arthritis mobilty issues      1\n",
       "In poor shape but active & improving           1\n",
       "Back Injury                                    1\n",
       "Obese diabetic but trying to be healthy        1\n",
       "need knee replacement                          1\n",
       "Disabled                                       1\n",
       "Name: How would you describe your level of physical health?, dtype: int64"
      ]
     },
     "metadata": {},
     "output_type": "display_data"
    },
    {
     "name": "stdout",
     "output_type": "stream",
     "text": [
      "\n",
      "---- What level of education have you reached? ---\n",
      "\n"
     ]
    },
    {
     "data": {
      "text/plain": [
       "University degree                                    895\n",
       "Post graduate                                        591\n",
       "College or trade school diploma                      521\n",
       "High school diploma                                  192\n",
       "Some university                                        2\n",
       "Professional degree                                    1\n",
       "4 years university no degree                           1\n",
       "Professional Certifications                            1\n",
       "Some University                                        1\n",
       "PhD                                                    1\n",
       "still in school                                        1\n",
       "some university                                        1\n",
       "M D                                                    1\n",
       "Grade 8                                                1\n",
       "college degree (not university and not a diploma)      1\n",
       "Grade 9                                                1\n",
       "Law School                                             1\n",
       "in HS                                                  1\n",
       "University Student                                     1\n",
       "some uni                                               1\n",
       "working towards OSSD                                   1\n",
       "High school Student                                    1\n",
       "Graduate                                               1\n",
       "university                                             1\n",
       "Name: What level of education have you reached?, dtype: int64"
      ]
     },
     "metadata": {},
     "output_type": "display_data"
    },
    {
     "name": "stdout",
     "output_type": "stream",
     "text": [
      "\n",
      "---- What is your household income? ---\n",
      "\n"
     ]
    },
    {
     "data": {
      "text/plain": [
       "$100K+          831\n",
       "$60K to $79K    372\n",
       "$80K to $99K    335\n",
       "$40K to $59K    298\n",
       "$20K to $39K    235\n",
       "Under $20K      107\n",
       "Name: What is your household income?, dtype: int64"
      ]
     },
     "metadata": {},
     "output_type": "display_data"
    },
    {
     "name": "stdout",
     "output_type": "stream",
     "text": [
      "\n",
      "---- Which category best describes your employment? ---\n",
      "\n"
     ]
    },
    {
     "data": {
      "text/plain": [
       "Full Time                                                                                                                            1405\n",
       "Self Employed                                                                                                                         361\n",
       "Retired                                                                                                                               136\n",
       "Part Time                                                                                                                             121\n",
       "Student                                                                                                                               118\n",
       "Unemployed                                                                                                                             37\n",
       "Home Maker                                                                                                                             17\n",
       "disabled                                                                                                                                2\n",
       "ODSP                                                                                                                                    2\n",
       "DISABLED                                                                                                                                1\n",
       "none of your business                                                                                                                   1\n",
       "arts worker - partial full time                                                                                                         1\n",
       "I don't understand the rationale for these demographic questions and I'm not sure the privacy statements meets CIMS requirements        1\n",
       "Free Lance                                                                                                                              1\n",
       "Seasonal Full-Time                                                                                                                      1\n",
       "Free-lance and home maker                                                                                                               1\n",
       "full time casual                                                                                                                        1\n",
       "Student/internship                                                                                                                      1\n",
       "FT Contract                                                                                                                             1\n",
       "DISSABLE                                                                                                                                1\n",
       "Freelance Contractor                                                                                                                    1\n",
       "Contract                                                                                                                                1\n",
       "Full time job 3 days a week own startup rest of time                                                                                    1\n",
       "semi-retired self-employed                                                                                                              1\n",
       "Disability pension                                                                                                                      1\n",
       "full time work and student                                                                                                              1\n",
       "part time while I write                                                                                                                 1\n",
       "ltip disability                                                                                                                         1\n",
       "Extreme full-time                                                                                                                       1\n",
       "Freelance Artist                                                                                                                        1\n",
       "contract                                                                                                                                1\n",
       "occasional teacher                                                                                                                      1\n",
       "Doctoral Student                                                                                                                        1\n",
       "Name: Which category best describes your employment?, dtype: int64"
      ]
     },
     "metadata": {},
     "output_type": "display_data"
    },
    {
     "name": "stdout",
     "output_type": "stream",
     "text": [
      "\n",
      "---- What Toronto district is your primary address located in? ---\n",
      "\n"
     ]
    },
    {
     "data": {
      "text/plain": [
       "Central Toronto York or East York                 1634\n",
       "Etobicoke                                          236\n",
       "North York                                         129\n",
       "Scarborough                                        120\n",
       "Mississauga                                         24\n",
       "Brampton                                             9\n",
       "Pickering                                            4\n",
       "Waterloo                                             4\n",
       "Guelph                                               3\n",
       "Richmond Hill                                        3\n",
       "oshawa                                               3\n",
       "Oakville                                             3\n",
       "markham                                              2\n",
       "GTA                                                  2\n",
       "ottawa                                               2\n",
       "mississauga                                          2\n",
       "Hamilton                                             2\n",
       "Markham                                              2\n",
       "Bulington                                            2\n",
       "Ottawa                                               2\n",
       "Vaughan                                              2\n",
       "High Park                                            1\n",
       "KW                                                   1\n",
       "beaches                                              1\n",
       "South Africa                                         1\n",
       "                                                  ... \n",
       "Victoria BC                                          1\n",
       "YORK REGION                                          1\n",
       "St Catharines                                        1\n",
       "out of town                                          1\n",
       "oakville                                             1\n",
       "Bangkok                                              1\n",
       "Paris Ontario                                        1\n",
       "niagara region                                       1\n",
       "Peterborough County                                  1\n",
       "Burlington                                           1\n",
       "leaside                                              1\n",
       "Beaches                                              1\n",
       "Beach                                                1\n",
       "i live in hamilton partner lives in north york       1\n",
       "Bloor West Village                                   1\n",
       "west end                                             1\n",
       "never north of bloor downtown                        1\n",
       "durham region                                        1\n",
       "Durham                                               1\n",
       "Guelph                                               1\n",
       "Richmomd Hill                                        1\n",
       "not sharing                                          1\n",
       "Kingston                                             1\n",
       "York Region                                          1\n",
       "St Catharines Ontario                                1\n",
       "Name: What Toronto district is your primary address located in?, Length: 68, dtype: int64"
      ]
     },
     "metadata": {},
     "output_type": "display_data"
    },
    {
     "name": "stdout",
     "output_type": "stream",
     "text": [
      "\n",
      "---- On average what distance do you travel most days of the week? ---\n",
      "\n"
     ]
    },
    {
     "data": {
      "text/plain": [
       "5 - 10 km     847\n",
       "10 - 20 km    653\n",
       "Over 35 km    293\n",
       "20 -35 km     248\n",
       "Under 2 km    196\n",
       "Name: On average what distance do you travel most days of the week?, dtype: int64"
      ]
     },
     "metadata": {},
     "output_type": "display_data"
    },
    {
     "name": "stdout",
     "output_type": "stream",
     "text": [
      "\n",
      "---- On average how long is your commute? ---\n",
      "\n"
     ]
    },
    {
     "data": {
      "text/plain": [
       "16 - 29 minutes         782\n",
       "30 - 44 minutes         565\n",
       "15 minutes or less      375\n",
       "45 minutes - 1 hour     246\n",
       "I do not commute        167\n",
       "over 1 hour each way    102\n",
       "Name: On average how long is your commute?, dtype: int64"
      ]
     },
     "metadata": {},
     "output_type": "display_data"
    },
    {
     "name": "stdout",
     "output_type": "stream",
     "text": [
      "\n",
      "---- Which transportation option do you end up using most often? ---\n",
      "\n"
     ]
    },
    {
     "data": {
      "text/plain": [
       "bicycle                                                                                       777\n",
       "private motor vehicle (car truck SUV van motorcycle gas limited speed motorcycle or moped)    631\n",
       "transit                                                                                       364\n",
       "walking                                                                                       247\n",
       "scooter type e-bike                                                                           105\n",
       "pedal assist type e-bike                                                                       86\n",
       "personal mobility device (electric wheelchair)                                                  2\n",
       "skateboard/longboard                                                                            1\n",
       "CONDO SHUTTLE BUS                                                                               1\n",
       "depends on the season three seasons bike one transit                                            1\n",
       "private motor vehicle                                                                           1\n",
       "Motor scooter                                                                                   1\n",
       "Car in winter bicycle in summer                                                                 1\n",
       "taxi                                                                                            1\n",
       "Motorcycle                                                                                      1\n",
       "Motorcycle depends on weather                                                                   1\n",
       "depends on season Transit in winter e-bike in summer                                            1\n",
       "bike in good weather                                                                            1\n",
       "I cover Ontario for work so Car but in TO- TTC and Bike are easier options                      1\n",
       "5000W custom high power electric bicycle (non-scooter)                                          1\n",
       "rollerblades                                                                                    1\n",
       "running                                                                                         1\n",
       "Winter TTC Other seasons Bike                                                                   1\n",
       "all                                                                                             1\n",
       "Hybrid Car                                                                                      1\n",
       "transit in winter otherwise e-bike                                                              1\n",
       "pedal assisted scooter type e-bike                                                              1\n",
       "combination of transit and walking                                                              1\n",
       "Cycling/transit highly seasonal 50:50                                                           1\n",
       "transit & bicycle                                                                               1\n",
       "bike in summer transit in winter                                                                1\n",
       "electric assist bicycle                                                                         1\n",
       "transit or bicycle (weather dependent)                                                          1\n",
       "Name: Which transportation option do you end up using most often?, dtype: int64"
      ]
     },
     "metadata": {},
     "output_type": "display_data"
    },
    {
     "name": "stdout",
     "output_type": "stream",
     "text": [
      "\n",
      "---- Does your household have access to any of the following private motorized vehicles? ---\n",
      "\n"
     ]
    },
    {
     "data": {
      "text/plain": [
       "Yes - a car SUV truck or van                                                                                                          1146\n",
       "No - I do not have access to a private motorized vehicle                                                                               522\n",
       "Yes a motorcycle                                                                                                                       162\n",
       "Yes - a pedal assist type e-bike                                                                                                        99\n",
       "Yes - a scooter style e-bike                                                                                                            85\n",
       "Yes - a car SUV truck or van Yes a motorcycle                                                                                           25\n",
       "Yes - a car SUV truck or van Yes - a scooter style e-bike                                                                               22\n",
       "Yes - a car SUV truck or van Yes - a pedal assist type e-bike                                                                           20\n",
       "Yes a limited speed motorcycle (eg gas powered vespa)                                                                                   17\n",
       "Autoshare                                                                                                                                9\n",
       "car share                                                                                                                                4\n",
       "Yes - a gas moped                                                                                                                        4\n",
       "Yes - a car SUV truck or van Yes - a scooter style e-bike Yes - a pedal assist type e-bike                                               3\n",
       "car and motorcycle                                                                                                                       3\n",
       "car rental                                                                                                                               2\n",
       "Yes - a car SUV truck or van Yes a limited speed motorcycle (eg gas powered vespa)                                                       2\n",
       "car & motorcycle                                                                                                                         2\n",
       "Yes - a car SUV truck or van Yes a motorcycle Yes - a scooter style e-bike Yes - a pedal assist type e-bike                              2\n",
       "Car and motorcycle                                                                                                                       2\n",
       "SUV and motorcycle                                                                                                                       2\n",
       "zipcar                                                                                                                                   2\n",
       "Yes - a car SUV truck or van No - I do not have access to a private motorized vehicle                                                    2\n",
       "Cars and Motorcycles                                                                                                                     1\n",
       "Survey does not allow for multiple answers                                                                                               1\n",
       "car motorcycle limited speed motorcycle                                                                                                  1\n",
       "                                                                                                                                      ... \n",
       "The author of this survey is a fuk'g idiot how do i answer if i have more than one of these?                                             1\n",
       "occasional car rental                                                                                                                    1\n",
       "Yes - a car and Yes - a motorcycle (your question should be checkboxes not radio-buttons)                                                1\n",
       "rent/share cars as needed                                                                                                                1\n",
       "bike                                                                                                                                     1\n",
       "have a Car2Go membership                                                                                                                 1\n",
       "Yes - a car SUV truck or van I have a 200cc scooter  It's like a vespa but it's not limited speed  Considered a motorcycle by MTO        1\n",
       "car-share: Zipcar Car2Go                                                                                                                 1\n",
       "car/truck/motorcycle/peddle bike                                                                                                         1\n",
       "I have access to car share car                                                                                                           1\n",
       "Car suv motorcycle                                                                                                                       1\n",
       "Car Motorcycle                                                                                                                           1\n",
       "A motor scooter                                                                                                                          1\n",
       "access through autoshare membership                                                                                                      1\n",
       "Car motorcycle                                                                                                                           1\n",
       "Carshare                                                                                                                                 1\n",
       "5000W custom high power electric bicycle (non-scooter)                                                                                   1\n",
       "membership in car-sharing service which we have not used to date                                                                         1\n",
       "also motorcycle - not allowing more than one choice                                                                                      1\n",
       "Motorcycle and SUV                                                                                                                       1\n",
       "will only let you choose one so i will choose scooter style ebike but i would have checked off a car as well                             1\n",
       "Car motorcycle and SUV                                                                                                                   1\n",
       "Car van motorcycle bike                                                                                                                  1\n",
       "form will only accept one selection! I have a car motorcycle limited speed motorcycle                                                    1\n",
       "Yes - a car SUV truck or van Electric scooter -sidewalk use only                                                                         1\n",
       "Name: Does your household have access to any of the following private motorized vehicles?, Length: 123, dtype: int64"
      ]
     },
     "metadata": {},
     "output_type": "display_data"
    },
    {
     "name": "stdout",
     "output_type": "stream",
     "text": [
      "\n",
      "---- Do you support any of the following statements? ---\n",
      "\n"
     ]
    },
    {
     "data": {
      "text/plain": [
       "scooter style e-bikes are different than pedal assisted bicycle type e-bikes and should not be considered as one vehicle category Most scooter type e-bikes are wider than a bicycle Most scooter type e-bikes weigh more than an average bicycle Most e-bikes are able to travel further distances than an average cyclist of average fitness  Most e-bikes are able to sustain higher average speeds than an average cyclist of average fitness Most e-bikes are able to accelerate more quickly than an average cyclist of average fitness E-bikes should require a license E-bikes should be required to have insurance                                                                                                                                                                                                      84\n",
       "Most scooter type e-bikes are wider than a bicycle Most scooter type e-bikes weigh more than an average bicycle Most e-bikes are able to travel further distances than an average cyclist of average fitness  Most e-bikes are able to sustain higher average speeds than an average cyclist of average fitness Most e-bikes are able to accelerate more quickly than an average cyclist of average fitness E-bikes should require a license E-bikes should be required to have insurance                                                                                                                                                                                                                                                                                                                                        58\n",
       "scooter style e-bikes are different than pedal assisted bicycle type e-bikes and should not be considered as one vehicle category On scooter type e-bikes the pedals are unnecessary and should not be required Most scooter type e-bikes are wider than a bicycle Most scooter type e-bikes weigh more than an average bicycle Most e-bikes are able to travel further distances than an average cyclist of average fitness  Most e-bikes are able to sustain higher average speeds than an average cyclist of average fitness Most e-bikes are able to accelerate more quickly than an average cyclist of average fitness E-bikes should require a license E-bikes should be required to have insurance                                                                                                                        57\n",
       "scooter style e-bikes are different than pedal assisted bicycle type e-bikes and should not be considered as one vehicle category On scooter type e-bikes the pedals are unnecessary and should not be required Most scooter type e-bikes are wider than a bicycle Most scooter type e-bikes weigh more than an average bicycle Most e-bikes are able to travel further distances than an average cyclist of average fitness  Most e-bikes are able to sustain higher average speeds than an average cyclist of average fitness Most e-bikes are able to accelerate more quickly than an average cyclist of average fitness E-bikes are a green transportation option which should be encouraged E-bikes should require a license E-bikes should be required to have insurance                                                   56\n",
       "Most scooter type e-bikes are wider than a bicycle Most scooter type e-bikes weigh more than an average bicycle Most e-bikes are able to sustain higher average speeds than an average cyclist of average fitness Most e-bikes are able to accelerate more quickly than an average cyclist of average fitness E-bikes should require a license E-bikes should be required to have insurance                                                                                                                                                                                                                                                                                                                                                                                                                                      49\n",
       "scooter style e-bikes are different than pedal assisted bicycle type e-bikes and should not be considered as one vehicle category Most scooter type e-bikes are wider than a bicycle Most scooter type e-bikes weigh more than an average bicycle Most e-bikes are able to sustain higher average speeds than an average cyclist of average fitness Most e-bikes are able to accelerate more quickly than an average cyclist of average fitness E-bikes should require a license E-bikes should be required to have insurance                                                                                                                                                                                                                                                                                                    42\n",
       "scooter style e-bikes are different than pedal assisted bicycle type e-bikes and should not be considered as one vehicle category On scooter type e-bikes the pedals are unnecessary and should not be required Most scooter type e-bikes are wider than a bicycle Most scooter type e-bikes weigh more than an average bicycle Most e-bikes are able to travel further distances than an average cyclist of average fitness  Most e-bikes are able to sustain higher average speeds than an average cyclist of average fitness Most e-bikes are able to accelerate more quickly than an average cyclist of average fitness E-bikes are a green transportation option which should be encouraged                                                                                                                                 41\n",
       "scooter style e-bikes are different than pedal assisted bicycle type e-bikes and should not be considered as one vehicle category Most scooter type e-bikes are wider than a bicycle Most scooter type e-bikes weigh more than an average bicycle E-bikes should require a license E-bikes should be required to have insurance                                                                                                                                                                                                                                                                                                                                                                                                                                                                                                  32\n",
       "scooter style e-bikes are different than pedal assisted bicycle type e-bikes and should not be considered as one vehicle category Most scooter type e-bikes are wider than a bicycle Most scooter type e-bikes weigh more than an average bicycle Most e-bikes are able to travel further distances than an average cyclist of average fitness  Most e-bikes are able to sustain higher average speeds than an average cyclist of average fitness Most e-bikes are able to accelerate more quickly than an average cyclist of average fitness E-bikes are a green transportation option which should be encouraged E-bikes should require a license E-bikes should be required to have insurance                                                                                                                                 30\n",
       "scooter style e-bikes are different than pedal assisted bicycle type e-bikes and should not be considered as one vehicle category Most scooter type e-bikes are wider than a bicycle Most scooter type e-bikes weigh more than an average bicycle Most e-bikes are able to travel further distances than an average cyclist of average fitness  Most e-bikes are able to sustain higher average speeds than an average cyclist of average fitness Most e-bikes are able to accelerate more quickly than an average cyclist of average fitness E-bikes are a green transportation option which should be encouraged                                                                                                                                                                                                               29\n",
       "scooter style e-bikes are different than pedal assisted bicycle type e-bikes and should not be considered as one vehicle category On scooter type e-bikes the pedals are unnecessary and should not be required Most scooter type e-bikes are wider than a bicycle Most scooter type e-bikes weigh more than an average bicycle Most e-bikes are able to travel further distances than an average cyclist of average fitness  Most e-bikes are able to sustain higher average speeds than an average cyclist of average fitness Most e-bikes are able to accelerate more quickly than an average cyclist of average fitness E-bikes are a green transportation option which should be encouraged E-bikes should require a license E-bikes should be required to have insurance E-bikes should be allowed to carry a passenger    28\n",
       "E-bikes are a green transportation option which should be encouraged                                                                                                                                                                                                                                                                                                                                                                                                                                                                                                                                                                                                                                                                                                                                                             27\n",
       "Most scooter type e-bikes are wider than a bicycle Most scooter type e-bikes weigh more than an average bicycle E-bikes should require a license E-bikes should be required to have insurance                                                                                                                                                                                                                                                                                                                                                                                                                                                                                                                                                                                                                                    27\n",
       "scooter style e-bikes are different than pedal assisted bicycle type e-bikes and should not be considered as one vehicle category On scooter type e-bikes the pedals are unnecessary and should not be required Most scooter type e-bikes are wider than a bicycle Most scooter type e-bikes weigh more than an average bicycle Most e-bikes are able to travel further distances than an average cyclist of average fitness  Most e-bikes are able to sustain higher average speeds than an average cyclist of average fitness Most e-bikes are able to accelerate more quickly than an average cyclist of average fitness E-bikes are a green transportation option which should be encouraged E-bikes should be allowed to carry a passenger                                                                                  24\n",
       "scooter style e-bikes are different than pedal assisted bicycle type e-bikes and should not be considered as one vehicle category On scooter type e-bikes the pedals are unnecessary and should not be required Most scooter type e-bikes are wider than a bicycle Most scooter type e-bikes weigh more than an average bicycle Most e-bikes are able to sustain higher average speeds than an average cyclist of average fitness Most e-bikes are able to accelerate more quickly than an average cyclist of average fitness E-bikes should require a license E-bikes should be required to have insurance                                                                                                                                                                                                                      23\n",
       "scooter style e-bikes are different than pedal assisted bicycle type e-bikes and should not be considered as one vehicle category Most scooter type e-bikes are wider than a bicycle Most scooter type e-bikes weigh more than an average bicycle Most e-bikes are able to travel further distances than an average cyclist of average fitness  Most e-bikes are able to sustain higher average speeds than an average cyclist of average fitness Most e-bikes are able to accelerate more quickly than an average cyclist of average fitness                                                                                                                                                                                                                                                                                    23\n",
       "Most scooter type e-bikes are wider than a bicycle Most scooter type e-bikes weigh more than an average bicycle Most e-bikes are able to travel further distances than an average cyclist of average fitness  Most e-bikes are able to sustain higher average speeds than an average cyclist of average fitness Most e-bikes are able to accelerate more quickly than an average cyclist of average fitness E-bikes are a green transportation option which should be encouraged E-bikes should require a license E-bikes should be required to have insurance                                                                                                                                                                                                                                                                   21\n",
       "E-bikes should require a license E-bikes should be required to have insurance                                                                                                                                                                                                                                                                                                                                                                                                                                                                                                                                                                                                                                                                                                                                                    20\n",
       "scooter style e-bikes are different than pedal assisted bicycle type e-bikes and should not be considered as one vehicle category On scooter type e-bikes the pedals are unnecessary and should not be required Most scooter type e-bikes are wider than a bicycle Most scooter type e-bikes weigh more than an average bicycle E-bikes are a green transportation option which should be encouraged                                                                                                                                                                                                                                                                                                                                                                                                                             18\n",
       "Most scooter type e-bikes are wider than a bicycle Most scooter type e-bikes weigh more than an average bicycle E-bikes are a green transportation option which should be encouraged                                                                                                                                                                                                                                                                                                                                                                                                                                                                                                                                                                                                                                             17\n",
       "scooter style e-bikes are different than pedal assisted bicycle type e-bikes and should not be considered as one vehicle category On scooter type e-bikes the pedals are unnecessary and should not be required Most scooter type e-bikes are wider than a bicycle Most scooter type e-bikes weigh more than an average bicycle E-bikes should require a license E-bikes should be required to have insurance                                                                                                                                                                                                                                                                                                                                                                                                                    16\n",
       "scooter style e-bikes are different than pedal assisted bicycle type e-bikes and should not be considered as one vehicle category Most scooter type e-bikes are wider than a bicycle Most scooter type e-bikes weigh more than an average bicycle E-bikes are a green transportation option which should be encouraged                                                                                                                                                                                                                                                                                                                                                                                                                                                                                                           16\n",
       "On scooter type e-bikes the pedals are unnecessary and should not be required Most scooter type e-bikes are wider than a bicycle Most scooter type e-bikes weigh more than an average bicycle Most e-bikes are able to travel further distances than an average cyclist of average fitness  Most e-bikes are able to sustain higher average speeds than an average cyclist of average fitness Most e-bikes are able to accelerate more quickly than an average cyclist of average fitness E-bikes are a green transportation option which should be encouraged                                                                                                                                                                                                                                                                   15\n",
       "scooter style e-bikes are different than pedal assisted bicycle type e-bikes and should not be considered as one vehicle category On scooter type e-bikes the pedals are unnecessary and should not be required Most scooter type e-bikes are wider than a bicycle Most scooter type e-bikes weigh more than an average bicycle Most e-bikes are able to travel further distances than an average cyclist of average fitness  Most e-bikes are able to sustain higher average speeds than an average cyclist of average fitness Most e-bikes are able to accelerate more quickly than an average cyclist of average fitness                                                                                                                                                                                                      15\n",
       "Most e-bikes are able to travel further distances than an average cyclist of average fitness  E-bikes are a green transportation option which should be encouraged                                                                                                                                                                                                                                                                                                                                                                                                                                                                                                                                                                                                                                                               15\n",
       "                                                                                                                                                                                                                                                                                                                                                                                                                                                                                                                                                                                                                                                                                                                                                                                                                                 ..\n",
       "Most scooter type e-bikes weigh more than an average bicycle Most e-bikes are able to accelerate more quickly than an average cyclist of average fitness E-bikes should require a license E-bikes should be required to have insurance                                                                                                                                                                                                                                                                                                                                                                                                                                                                                                                                                                                            1\n",
       "scooter style e-bikes are different than pedal assisted bicycle type e-bikes and should not be considered as one vehicle category On scooter type e-bikes the pedals are unnecessary and should not be required Most e-bikes are able to travel further distances than an average cyclist of average fitness  E-bikes are a green transportation option which should be encouraged E-bikes should require a license E-bikes should be required to have insurance                                                                                                                                                                                                                                                                                                                                                                  1\n",
       "scooter style e-bikes are different than pedal assisted bicycle type e-bikes and should not be considered as one vehicle category On scooter type e-bikes the pedals are unnecessary and should not be required Most scooter type e-bikes are wider than a bicycle Most scooter type e-bikes weigh more than an average bicycle Most e-bikes are able to accelerate more quickly than an average cyclist of average fitness E-bikes should require a license                                                                                                                                                                                                                                                                                                                                                                      1\n",
       "On scooter type e-bikes the pedals are unnecessary and should not be required Most scooter type e-bikes are wider than a bicycle Most scooter type e-bikes weigh more than an average bicycle Most e-bikes are able to travel further distances than an average cyclist of average fitness  Most e-bikes are able to sustain higher average speeds than an average cyclist of average fitness Most e-bikes are able to accelerate more quickly than an average cyclist of average fitness E-bikes are a green transportation option which should be encouraged E-bikes should require a license E-bikes should be allowed to carry a passenger                                                                                                                                                                                    1\n",
       "Most scooter type e-bikes are wider than a bicycle Most scooter type e-bikes weigh more than an average bicycle Most e-bikes are able to accelerate more quickly than an average cyclist of average fitness E-bikes should require a license                                                                                                                                                                                                                                                                                                                                                                                                                                                                                                                                                                                      1\n",
       "Most e-bikes are able to sustain higher average speeds than an average cyclist of average fitness E-bikes are a green transportation option which should be encouraged                                                                                                                                                                                                                                                                                                                                                                                                                                                                                                                                                                                                                                                            1\n",
       "scooter style e-bikes are different than pedal assisted bicycle type e-bikes and should not be considered as one vehicle category Most scooter type e-bikes weigh more than an average bicycle Most e-bikes are able to travel further distances than an average cyclist of average fitness  Most e-bikes are able to sustain higher average speeds than an average cyclist of average fitness Most e-bikes are able to accelerate more quickly than an average cyclist of average fitness E-bikes should require a license                                                                                                                                                                                                                                                                                                       1\n",
       "scooter style e-bikes are different than pedal assisted bicycle type e-bikes and should not be considered as one vehicle category Most scooter type e-bikes are wider than a bicycle                                                                                                                                                                                                                                                                                                                                                                                                                                                                                                                                                                                                                                              1\n",
       "Most scooter type e-bikes are wider than a bicycle Most scooter type e-bikes weigh more than an average bicycle Most e-bikes are able to travel further distances than an average cyclist of average fitness  Most e-bikes are able to sustain higher average speeds than an average cyclist of average fitness E-bikes should require a license E-bikes should be allowed to carry a passenger                                                                                                                                                                                                                                                                                                                                                                                                                                   1\n",
       "Most scooter type e-bikes are wider than a bicycle Most scooter type e-bikes weigh more than an average bicycle Most e-bikes are able to sustain higher average speeds than an average cyclist of average fitness Most e-bikes are able to accelerate more quickly than an average cyclist of average fitness E-bikes are a green transportation option which should be encouraged E-bikes should require a license E-bikes should be allowed to carry a passenger                                                                                                                                                                                                                                                                                                                                                                1\n",
       "On scooter type e-bikes the pedals are unnecessary and should not be required Most scooter type e-bikes are wider than a bicycle Most scooter type e-bikes weigh more than an average bicycle Most e-bikes are able to travel further distances than an average cyclist of average fitness  E-bikes are a green transportation option which should be encouraged E-bikes should require a license E-bikes should be required to have insurance                                                                                                                                                                                                                                                                                                                                                                                    1\n",
       "On scooter type e-bikes the pedals are unnecessary and should not be required Most scooter type e-bikes are wider than a bicycle Most scooter type e-bikes weigh more than an average bicycle Most e-bikes are able to travel further distances than an average cyclist of average fitness  Most e-bikes are able to sustain higher average speeds than an average cyclist of average fitness E-bikes should require a license E-bikes should be required to have insurance                                                                                                                                                                                                                                                                                                                                                       1\n",
       "scooter style e-bikes are different than pedal assisted bicycle type e-bikes and should not be considered as one vehicle category On scooter type e-bikes the pedals are unnecessary and should not be required Most scooter type e-bikes are wider than a bicycle Most scooter type e-bikes weigh more than an average bicycle Most e-bikes are able to travel further distances than an average cyclist of average fitness  Most e-bikes are able to sustain higher average speeds than an average cyclist of average fitness Most e-bikes are able to accelerate more quickly than an average cyclist of average fitness E-bikes should be allowed to carry a passenger                                                                                                                                                        1\n",
       "scooter style e-bikes are different than pedal assisted bicycle type e-bikes and should not be considered as one vehicle category On scooter type e-bikes the pedals are unnecessary and should not be required Most scooter type e-bikes weigh more than an average bicycle Most e-bikes are able to travel further distances than an average cyclist of average fitness  Most e-bikes are able to accelerate more quickly than an average cyclist of average fitness E-bikes are a green transportation option which should be encouraged                                                                                                                                                                                                                                                                                       1\n",
       "scooter style e-bikes are different than pedal assisted bicycle type e-bikes and should not be considered as one vehicle category Most scooter type e-bikes are wider than a bicycle Most e-bikes are able to travel further distances than an average cyclist of average fitness  Most e-bikes are able to sustain higher average speeds than an average cyclist of average fitness E-bikes are a green transportation option which should be encouraged E-bikes should require a license                                                                                                                                                                                                                                                                                                                                        1\n",
       "scooter style e-bikes are different than pedal assisted bicycle type e-bikes and should not be considered as one vehicle category Most scooter type e-bikes weigh more than an average bicycle Most e-bikes are able to sustain higher average speeds than an average cyclist of average fitness Most e-bikes are able to accelerate more quickly than an average cyclist of average fitness E-bikes are a green transportation option which should be encouraged E-bikes should require a license E-bikes should be required to have insurance E-bikes should be allowed to carry a passenger                                                                                                                                                                                                                                    1\n",
       "Most scooter type e-bikes are wider than a bicycle Most e-bikes are able to travel further distances than an average cyclist of average fitness  Most e-bikes are able to sustain higher average speeds than an average cyclist of average fitness Most e-bikes are able to accelerate more quickly than an average cyclist of average fitness E-bikes should require a license E-bikes should be required to have insurance                                                                                                                                                                                                                                                                                                                                                                                                      1\n",
       "Most e-bikes are able to sustain higher average speeds than an average cyclist of average fitness Most e-bikes are able to accelerate more quickly than an average cyclist of average fitness                                                                                                                                                                                                                                                                                                                                                                                                                                                                                                                                                                                                                                     1\n",
       "scooter style e-bikes are different than pedal assisted bicycle type e-bikes and should not be considered as one vehicle category On scooter type e-bikes the pedals are unnecessary and should not be required Most scooter type e-bikes are wider than a bicycle Most scooter type e-bikes weigh more than an average bicycle E-bikes should be allowed to carry a passenger                                                                                                                                                                                                                                                                                                                                                                                                                                                    1\n",
       "On scooter type e-bikes the pedals are unnecessary and should not be required Most scooter type e-bikes are wider than a bicycle Most scooter type e-bikes weigh more than an average bicycle Most e-bikes are able to travel further distances than an average cyclist of average fitness  Most e-bikes are able to sustain higher average speeds than an average cyclist of average fitness E-bikes should require a license E-bikes should be required to have insurance E-bikes should be allowed to carry a passenger                                                                                                                                                                                                                                                                                                        1\n",
       "scooter style e-bikes are different than pedal assisted bicycle type e-bikes and should not be considered as one vehicle category On scooter type e-bikes the pedals are unnecessary and should not be required Most scooter type e-bikes weigh more than an average bicycle Most e-bikes are able to accelerate more quickly than an average cyclist of average fitness E-bikes are a green transportation option which should be encouraged                                                                                                                                                                                                                                                                                                                                                                                     1\n",
       "On scooter type e-bikes the pedals are unnecessary and should not be required Most scooter type e-bikes are wider than a bicycle Most scooter type e-bikes weigh more than an average bicycle Most e-bikes are able to sustain higher average speeds than an average cyclist of average fitness E-bikes should be allowed to carry a passenger                                                                                                                                                                                                                                                                                                                                                                                                                                                                                    1\n",
       "Most scooter type e-bikes are wider than a bicycle Most scooter type e-bikes weigh more than an average bicycle Most e-bikes are able to sustain higher average speeds than an average cyclist of average fitness E-bikes are a green transportation option which should be encouraged E-bikes should require a license                                                                                                                                                                                                                                                                                                                                                                                                                                                                                                           1\n",
       "scooter style e-bikes are different than pedal assisted bicycle type e-bikes and should not be considered as one vehicle category Most scooter type e-bikes are wider than a bicycle Most scooter type e-bikes weigh more than an average bicycle Most e-bikes are able to travel further distances than an average cyclist of average fitness  E-bikes should be required to have insurance                                                                                                                                                                                                                                                                                                                                                                                                                                      1\n",
       "scooter style e-bikes are different than pedal assisted bicycle type e-bikes and should not be considered as one vehicle category Most scooter type e-bikes weigh more than an average bicycle Most e-bikes are able to travel further distances than an average cyclist of average fitness  Most e-bikes are able to sustain higher average speeds than an average cyclist of average fitness Most e-bikes are able to accelerate more quickly than an average cyclist of average fitness E-bikes are a green transportation option which should be encouraged E-bikes should be allowed to carry a passenger                                                                                                                                                                                                                    1\n",
       "Name: Do you support any of the following statements?, Length: 534, dtype: int64"
      ]
     },
     "metadata": {},
     "output_type": "display_data"
    },
    {
     "name": "stdout",
     "output_type": "stream",
     "text": [
      "\n",
      "---- When you use Toronto's Multi-Use Trails do you mostly ---\n",
      "\n"
     ]
    },
    {
     "data": {
      "text/plain": [
       "cycle                                                                                                                                                                         738\n",
       "walk cycle                                                                                                                                                                    282\n",
       "walk                                                                                                                                                                          267\n",
       "I very rarely use any of Toronto's Multi-Use Paths                                                                                                                            196\n",
       "walk run cycle                                                                                                                                                                 93\n",
       "pedal a pedal assist type e-bike                                                                                                                                               67\n",
       "walk with a stroller young child or pet                                                                                                                                        67\n",
       "run                                                                                                                                                                            56\n",
       "run cycle                                                                                                                                                                      53\n",
       "walk walk with a stroller young child or pet cycle                                                                                                                             43\n",
       "walk run                                                                                                                                                                       32\n",
       "drive a motor propelled e-bike                                                                                                                                                 27\n",
       "walk I very rarely use any of Toronto's Multi-Use Paths                                                                                                                        23\n",
       "walk walk with a stroller young child or pet                                                                                                                                   22\n",
       "walk run skate cycle                                                                                                                                                           21\n",
       "walk walk with a stroller young child or pet run cycle                                                                                                                         20\n",
       "skate cycle                                                                                                                                                                    15\n",
       "walk cycle I very rarely use any of Toronto's Multi-Use Paths                                                                                                                  14\n",
       "walk with a stroller young child or pet cycle                                                                                                                                  13\n",
       "cycle pedal a pedal assist type e-bike                                                                                                                                         13\n",
       "walk walk with a stroller young child or pet run skate cycle                                                                                                                   12\n",
       "walk walk with a stroller young child or pet run                                                                                                                               11\n",
       "cycle I very rarely use any of Toronto's Multi-Use Paths                                                                                                                       11\n",
       "walk pedal a pedal assist type e-bike                                                                                                                                          11\n",
       "walk cycle pedal a pedal assist type e-bike                                                                                                                                     9\n",
       "                                                                                                                                                                             ... \n",
       "walk with a stroller young child or pet skate cycle                                                                                                                             1\n",
       "walk run skate                                                                                                                                                                  1\n",
       "walk run cycle drive a motor propelled e-bike                                                                                                                                   1\n",
       "dont says no e bikes used to cycle it when well                                                                                                                                 1\n",
       "I do not use e-bikes are prohibited :-(                                                                                                                                         1\n",
       "walk pedal bike                                                                                                                                                                 1\n",
       "use a wheelchair or similar mobility device                                                                                                                                     1\n",
       "ride a normal bike                                                                                                                                                              1\n",
       "walk drive a motor propelled e-bike I very rarely use any of Toronto's Multi-Use Paths                                                                                          1\n",
       "a motor-assisted bicycle is a moped under the hta                                                                                                                               1\n",
       "walk cycle skateboard                                                                                                                                                           1\n",
       "pedal a pedal assist type e-bike When visiting TA                                                                                                                               1\n",
       "I do not use any of Toronto's Multi-Use Paths                                                                                                                                   1\n",
       "cycle pedal a pedal assist type e-bike drive a motor propelled e-bike Ottawa paths are 20 km/h and open for e-bikes but not scooters                                            1\n",
       "I very rarely use any of Toronto's Multi-Use Paths I use Orillia's multi-use trails where all legal ebikes are allowed with pedestrians roller bladers disability scooters      1\n",
       "walk Should give examples: High Park nature trails? Path across Queen's Park? Not sure what you're referring to                                                                 1\n",
       "walk cycle pedal a pedal assist type e-bike I very rarely use any of Toronto's Multi-Use Paths                                                                                  1\n",
       "walk walk with a stroller young child or pet pedal a pedal assist type e-bike drive a motor propelled e-bike                                                                    1\n",
       "Regular bicycle                                                                                                                                                                 1\n",
       "walk skate cycle pedal a pedal assist type e-bike drive a motor propelled e-bike                                                                                                1\n",
       "walk pedal a pedal assist type e-bike I very rarely use any of Toronto's Multi-Use Paths                                                                                        1\n",
       "I equally bike and walk with young child                                                                                                                                        1\n",
       "skate pedal a pedal assist type e-bike                                                                                                                                          1\n",
       "walk walk with a stroller young child or pet run pedal a pedal assist type e-bike                                                                                               1\n",
       "skate radio button come on who developed this survey                                                                                                                            1\n",
       "Name: When you use Toronto's Multi-Use Trails do you mostly, Length: 89, dtype: int64"
      ]
     },
     "metadata": {},
     "output_type": "display_data"
    },
    {
     "name": "stdout",
     "output_type": "stream",
     "text": [
      "\n",
      "---- Are you aware that the Multi-Use Paths have a speed limit of 20 km/h? ---\n",
      "\n"
     ]
    },
    {
     "data": {
      "text/plain": [
       "No     1131\n",
       "Yes    1107\n",
       "Name: Are you aware that the Multi-Use Paths have a speed limit of 20 km/h?, dtype: int64"
      ]
     },
     "metadata": {},
     "output_type": "display_data"
    },
    {
     "name": "stdout",
     "output_type": "stream",
     "text": [
      "\n",
      "---- Have you witnessed a collision or conflict on a trail between ---\n",
      "\n"
     ]
    },
    {
     "data": {
      "text/plain": [
       "I am not aware of any conflicts on the trails                                                                                                                                                                                                                                                              847\n",
       "a conflict between cyclists and pedestrians                                                                                                                                                                                                                                                                138\n",
       "a conflict relating to a dog(s)                                                                                                                                                                                                                                                                             80\n",
       "a conflict between an e-biker and a pedestrian a conflict between e-biker and a cyclist                                                                                                                                                                                                                     80\n",
       "a conflict between e-biker and a cyclist                                                                                                                                                                                                                                                                    54\n",
       "a conflict relating to a dog(s) a conflict between cyclists and pedestrians                                                                                                                                                                                                                                 51\n",
       "pedestrians and/or runners a conflict relating to a dog(s) a conflict relating to an in-line skater a conflict between cyclists and pedestrians a conflict between two cyclists a conflict between an e-biker and a pedestrian a conflict between e-biker and a cyclist                                     33\n",
       "a conflict between an e-biker and a pedestrian                                                                                                                                                                                                                                                              31\n",
       "a conflict relating to a dog(s) a conflict between cyclists and pedestrians a conflict between an e-biker and a pedestrian a conflict between e-biker and a cyclist                                                                                                                                         31\n",
       "a conflict between cyclists and pedestrians a conflict between an e-biker and a pedestrian a conflict between e-biker and a cyclist                                                                                                                                                                         30\n",
       "a conflict relating to a dog(s) a conflict between an e-biker and a pedestrian a conflict between e-biker and a cyclist                                                                                                                                                                                     29\n",
       "a conflict between two cyclists                                                                                                                                                                                                                                                                             27\n",
       "a conflict between cyclists and pedestrians a conflict between an e-biker and a pedestrian                                                                                                                                                                                                                  24\n",
       "a conflict between an e-biker and a pedestrian a conflict between e-biker and a cyclist a conflict between two e-bikers                                                                                                                                                                                     23\n",
       "a conflict relating to an in-line skater a conflict between cyclists and pedestrians                                                                                                                                                                                                                        22\n",
       "a conflict relating to an in-line skater                                                                                                                                                                                                                                                                    21\n",
       "a conflict relating to a dog(s) a conflict relating to an in-line skater a conflict between cyclists and pedestrians                                                                                                                                                                                        20\n",
       "a conflict between cyclists and pedestrians a conflict between two cyclists                                                                                                                                                                                                                                 20\n",
       "pedestrians and/or runners a conflict relating to a dog(s) a conflict relating to an in-line skater a conflict between cyclists and pedestrians a conflict between two cyclists                                                                                                                             19\n",
       "a conflict relating to a dog(s) a conflict between cyclists and pedestrians a conflict between an e-biker and a pedestrian                                                                                                                                                                                  18\n",
       "a conflict between cyclists and pedestrians a conflict between e-biker and a cyclist                                                                                                                                                                                                                        18\n",
       "a conflict relating to a dog(s) a conflict between cyclists and pedestrians a conflict between e-biker and a cyclist                                                                                                                                                                                        16\n",
       "a conflict relating to a dog(s) a conflict relating to an in-line skater a conflict between cyclists and pedestrians a conflict between an e-biker and a pedestrian a conflict between e-biker and a cyclist                                                                                                16\n",
       "pedestrians and/or runners a conflict relating to a dog(s) a conflict relating to an in-line skater a conflict between cyclists and pedestrians                                                                                                                                                             16\n",
       "pedestrians and/or runners a conflict relating to a dog(s) a conflict relating to an in-line skater a conflict between cyclists and pedestrians a conflict between two cyclists a conflict between an e-biker and a pedestrian a conflict between e-biker and a cyclist a conflict between two e-bikers     15\n",
       "                                                                                                                                                                                                                                                                                                          ... \n",
       "Near miss E bike & cyclist                                                                                                                                                                                                                                                                                   1\n",
       "I am not aware of any conflicts on the trails Did NOT witness any                                                                                                                                                                                                                                            1\n",
       "POLICE RIDING ON SIDEWALKS??                                                                                                                                                                                                                                                                                 1\n",
       "Closest near misses I've seen are always between cyclists and runners                                                                                                                                                                                                                                        1\n",
       "e-biker and skater                                                                                                                                                                                                                                                                                           1\n",
       "I have seen e-bikes (scooter) run into gates set on the trail                                                                                                                                                                                                                                                1\n",
       "I have not witnessed conflicts                                                                                                                                                                                                                                                                               1\n",
       "I am aware but not witnessed pedestrian to bike collision                                                                                                                                                                                                                                                    1\n",
       "a conflict relating to an in-line skater a conflict between cyclists and pedestrians a conflict between an e-biker and a pedestrian a conflict between e-biker and a cyclist a conflict between two e-bikers                                                                                                 1\n",
       "haven't sen any                                                                                                                                                                                                                                                                                              1\n",
       "I am aware that conflicts occur but have never witnessed any                                                                                                                                                                                                                                                 1\n",
       "a conflict relating to a dog(s) a conflict relating to an in-line skater a conflict between two cyclists a conflict between e-biker and a cyclist                                                                                                                                                            1\n",
       "a conflict relating to a dog(s) a conflict relating to an in-line skater a conflict between cyclists and pedestrians a conflict between two cyclists a conflict between an e-biker and a pedestrian a conflict between e-biker and a cyclist a conflict between two e-bikers                                 1\n",
       "pedestrians and/or runners a conflict between cyclists and pedestrians a conflict between two cyclists a conflict between an e-biker and a pedestrian a conflict between e-biker and a cyclist a conflict between two e-bikers                                                                               1\n",
       "a conflict relating to a dog(s) a conflict between cyclists and pedestrians native snakes run over by cyclists                                                                                                                                                                                               1\n",
       "only close calls                                                                                                                                                                                                                                                                                             1\n",
       "pedestrians and/or runners a conflict between cyclists and pedestrians a conflict between an e-biker and a pedestrian a conflict between e-biker and a cyclist a conflict between two e-bikers                                                                                                               1\n",
       "am aware but have not witnessed conflicts                                                                                                                                                                                                                                                                    1\n",
       "I have not personally witnessed a conflict but I'm aware they exist                                                                                                                                                                                                                                          1\n",
       "a conflict between cyclists and pedestrians a conflict between two cyclists a conflict between e-biker and a cyclist cyclists seem to be angry at everything                                                                                                                                                 1\n",
       "I am sure there are conflicts but I do not travel on these trails enough to have seen one                                                                                                                                                                                                                    1\n",
       "I have not witnessed but I've heard of accidents                                                                                                                                                                                                                                                             1\n",
       "I'm SURE there must be some conflicts but I have not witnessed one                                                                                                                                                                                                                                           1\n",
       "I can understand that these conflicts can occur                                                                                                                                                                                                                                                              1\n",
       "a conflict relating to a dog(s) a conflict between e-biker and a cyclist a conflict between two e-bikers                                                                                                                                                                                                     1\n",
       "Name: Have you witnessed a collision or conflict on a trail between, Length: 221, dtype: int64"
      ]
     },
     "metadata": {},
     "output_type": "display_data"
    },
    {
     "name": "stdout",
     "output_type": "stream",
     "text": [
      "\n",
      "---- Do you think more should be done to manage trail users who do not respect the 20 km/h speed limit? ---\n",
      "\n"
     ]
    },
    {
     "data": {
      "text/plain": [
       "No - the trails are fine as they are                                                                                                                                                            646\n",
       "Yes - more signage Yes - more enforcement (ticketing) Yes - more educational programs                                                                                                           355\n",
       "Yes - more enforcement (ticketing)                                                                                                                                                              276\n",
       "Yes - more signage                                                                                                                                                                              260\n",
       "Yes - more signage Yes - more educational programs                                                                                                                                              188\n",
       "Yes - more signage Yes - more enforcement (ticketing)                                                                                                                                           161\n",
       "Yes - more educational programs                                                                                                                                                                 118\n",
       "Yes - more enforcement (ticketing) Yes - more educational programs                                                                                                                               93\n",
       "Yes - more educational programs No - the trails are fine as they are                                                                                                                              8\n",
       "Yes - more signage No - the trails are fine as they are                                                                                                                                           5\n",
       "don't know                                                                                                                                                                                        2\n",
       "Yes - more signage Yes - more educational programs No - the trails are fine as they are                                                                                                           2\n",
       "Yes - more enforcement (ticketing) No - the trails are fine as they are                                                                                                                           2\n",
       "like roads perhaps heavy traffic areas could possibly have a lower speed than more remote areas                                                                                                   1\n",
       "Yes - more signage Yes - more educational programs better designed/pave trails                                                                                                                    1\n",
       "The trails need expansion and widening to handle cyclist who want to commute (speeds of 25 to 30km/h as well as slower cyclists but pedestrians shouldn't be on them                              1\n",
       "A campaign to raise awareness that the trails have many uses and courtesy is required                                                                                                             1\n",
       "discretionary depending on the volume of trail traffic                                                                                                                                            1\n",
       "I have no opinion                                                                                                                                                                                 1\n",
       "Yes - more signage Yes - more enforcement (ticketing) since bicycles don't have speedometers how will they know if they are respecting the speed limit?                                           1\n",
       "Yes - more signage Right of way needs to be observed Strollers/families in way of bikes                                                                                                           1\n",
       "No - the trails are fine as they are max not needed if people are responsible and slow down when necessary                                                                                        1\n",
       "Yes - more enforcement (ticketing) Yes - more educational programs No motors - electronic or otherwise (wheelchairs are OK)                                                                       1\n",
       "Yes - more enforcement (ticketing) A lot of cyclists on very fast bikes in their on pelotons                                                                                                      1\n",
       "Video survalience with prosecution                                                                                                                                                                1\n",
       "                                                                                                                                                                                               ... \n",
       "automatic limiting of motor                                                                                                                                                                       1\n",
       "Not sure                                                                                                                                                                                          1\n",
       "No - the trails are fine as they are the speed limit should be abolished provided there are no motor vehicles or e-bikes                                                                          1\n",
       "yes go after cyclists preparing for the Tour de France                                                                                                                                            1\n",
       "make it 60kmh                                                                                                                                                                                     1\n",
       "pedastrians need to made aware that bicycles travel fast & they should look before moving onto trails                                                                                             1\n",
       "walk lane run lane fast lane                                                                                                                                                                      1\n",
       "If they're exceeding the speed limit and its crowded; ticket if its empty warning                                                                                                                 1\n",
       "the speed is not the problem all trail users need to have high situational awareness                                                                                                              1\n",
       "No - the trails are fine as they are Model like in Netherlands                                                                                                                                    1\n",
       "make more trails to relieve congestion                                                                                                                                                            1\n",
       "r u talking trails or bike lanes on roads survey is poorly written                                                                                                                                1\n",
       "more should be done to get non person power off the trails  ebikes have no place in parks or trails  I have never seen someone peddle them - they really aren't even designed to be peddled!      1\n",
       "No - the trails are fine as they are i worry more about runners                                                                                                                                   1\n",
       "Yes - more signage Yes - more educational programs Blink Signs if speed is over limit                                                                                                             1\n",
       "Yes - more signage Yes - more enforcement (ticketing) No e-bikes (the ones with useless pedals) on these trails at all                                                                            1\n",
       "Yes - more signage Alert pedestrians of rules of the trail                                                                                                                                        1\n",
       "20 km/hr is too low There should be a minimum too                                                                                                                                                 1\n",
       "Yes - more signage Yes - more enforcement (ticketing) Warnings before ticketing                                                                                                                   1\n",
       "Better Trails (more separation) Higher speeds for all cyclists (pedal and e-bike)                                                                                                                 1\n",
       "No - the trails are fine as they are Better regulate vehicle type and use rather than speed                                                                                                       1\n",
       "No motorized vehicles on trails - other than for the physically disabled                                                                                                                          1\n",
       "Yes - more signage Yes - more enforcement (ticketing) Yes - more educational programs Bike racers do not belong on trails                                                                         1\n",
       "IDK                                                                                                                                                                                               1\n",
       "ebikes should not be allowed on the trails OR in bike lanes                                                                                                                                       1\n",
       "Name: Do you think more should be done to manage trail users who do not respect the 20 km/h speed limit?, Length: 134, dtype: int64"
      ]
     },
     "metadata": {},
     "output_type": "display_data"
    },
    {
     "name": "stdout",
     "output_type": "stream",
     "text": [
      "\n",
      "---- Currently any kind of e-bike may use a multi-use path if they are propelled by pedaling only and those propelled by motor power may be fined  ---\n",
      "\n"
     ]
    },
    {
     "data": {
      "text/plain": [
       "No changes are necessary to the existing bylaw                                                                                                                                                                                                                                                                                                                                                                                                                                                                                                            811\n",
       "Motorized vehicles should generally not be allowed on the trail but a special provision should be made for e-bike users who are medically unable to propel a conventional bicycle using muscular power alone                                                                                                                                                                                                                                                                                                                                              631\n",
       "The bylaw should be modified to allow the 'pedal assist bicycle' type of e-bikes                                                                                                                                                                                                                                                                                                                                                                                                                                                                          289\n",
       "The bylaw should be modified to allow any kind of e-bike including scooter type e-bikes use the trail                                                                                                                                                                                                                                                                                                                                                                                                                                                     141\n",
       "No changes are necessary to the existing bylaw Motorized vehicles should generally not be allowed on the trail but a special provision should be made for e-bike users who are medically unable to propel a conventional bicycle using muscular power alone                                                                                                                                                                                                                                                                                               112\n",
       "The bylaw should be modified to allow the 'pedal assist bicycle' type of e-bikes Motorized vehicles should generally not be allowed on the trail but a special provision should be made for e-bike users who are medically unable to propel a conventional bicycle using muscular power alone                                                                                                                                                                                                                                                              81\n",
       "The bylaw should be modified to allow the 'pedal assist bicycle' type of e-bikes The bylaw should be modified to allow any kind of e-bike including scooter type e-bikes use the trail                                                                                                                                                                                                                                                                                                                                                                     49\n",
       "The bylaw should be rescinded so that any kind of recreational motor vehicle can drive on the trail                                                                                                                                                                                                                                                                                                                                                                                                                                                        27\n",
       "The bylaw should be modified to allow any kind of e-bike including scooter type e-bikes use the trail Motorized vehicles should generally not be allowed on the trail but a special provision should be made for e-bike users who are medically unable to propel a conventional bicycle using muscular power alone                                                                                                                                                                                                                                         20\n",
       "The bylaw should be modified to allow the 'pedal assist bicycle' type of e-bikes The bylaw should be modified to allow any kind of e-bike including scooter type e-bikes use the trail Motorized vehicles should generally not be allowed on the trail but a special provision should be made for e-bike users who are medically unable to propel a conventional bicycle using muscular power alone                                                                                                                                                        14\n",
       "The bylaw should be modified to allow any kind of e-bike including scooter type e-bikes use the trail The bylaw should be rescinded so that any kind of recreational motor vehicle can drive on the trail                                                                                                                                                                                                                                                                                                                                                  10\n",
       "No changes are necessary to the existing bylaw The bylaw should be modified to allow the 'pedal assist bicycle' type of e-bikes Motorized vehicles should generally not be allowed on the trail but a special provision should be made for e-bike users who are medically unable to propel a conventional bicycle using muscular power alone                                                                                                                                                                                                               10\n",
       "No changes are necessary to the existing bylaw The bylaw should be modified to allow the 'pedal assist bicycle' type of e-bikes                                                                                                                                                                                                                                                                                                                                                                                                                             9\n",
       "The bylaw should be modified to allow the 'pedal assist bicycle' type of e-bikes The bylaw should be modified to allow any kind of e-bike including scooter type e-bikes use the trail The bylaw should be rescinded so that any kind of recreational motor vehicle can drive on the trail                                                                                                                                                                                                                                                                  9\n",
       "The bylaw should be rescinded so that any kind of recreational motor vehicle can drive on the trail Motorized vehicles should generally not be allowed on the trail but a special provision should be made for e-bike users who are medically unable to propel a conventional bicycle using muscular power alone                                                                                                                                                                                                                                            6\n",
       "No changes are necessary to the existing bylaw The bylaw should be modified to allow the 'pedal assist bicycle' type of e-bikes The bylaw should be modified to allow any kind of e-bike including scooter type e-bikes use the trail                                                                                                                                                                                                                                                                                                                       5\n",
       "The bylaw should be modified to allow any kind of e-bike including scooter type e-bikes use the trail The bylaw should be rescinded so that any kind of recreational motor vehicle can drive on the trail Motorized vehicles should generally not be allowed on the trail but a special provision should be made for e-bike users who are medically unable to propel a conventional bicycle using muscular power alone                                                                                                                                      4\n",
       "No changes are necessary to the existing bylaw The bylaw should be modified to allow the 'pedal assist bicycle' type of e-bikes The bylaw should be modified to allow any kind of e-bike including scooter type e-bikes use the trail The bylaw should be rescinded so that any kind of recreational motor vehicle can drive on the trail                                                                                                                                                                                                                   2\n",
       "No changes are necessary to the existing bylaw The bylaw should be rescinded so that any kind of recreational motor vehicle can drive on the trail                                                                                                                                                                                                                                                                                                                                                                                                          2\n",
       "No changes are necessary to the existing bylaw The bylaw should be modified to allow any kind of e-bike including scooter type e-bikes use the trail The bylaw should be rescinded so that any kind of recreational motor vehicle can drive on the trail Motorized vehicles should generally not be allowed on the trail but a special provision should be made for e-bike users who are medically unable to propel a conventional bicycle using muscular power alone                                                                                       1\n",
       "The bylaw should be modified to allow e-bikes which can be pedaled and look like bicycles to use power assist up to 32 km/h                                                                                                                                                                                                                                                                                                                                                                                                                                 1\n",
       "No changes are necessary to the existing bylaw The bylaw should be modified to allow the 'pedal assist bicycle' type of e-bikes The bylaw should be modified to allow any kind of e-bike including scooter type e-bikes use the trail The bylaw should be rescinded so that any kind of recreational motor vehicle can drive on the trail Motorized vehicles should generally not be allowed on the trail but a special provision should be made for e-bike users who are medically unable to propel a conventional bicycle using muscular power alone      1\n",
       "The bylaw should be modified to allow the 'pedal assist bicycle' type of e-bikes The bylaw should be modified to allow any kind of e-bike including scooter type e-bikes use the trail The bylaw should be rescinded so that any kind of recreational motor vehicle can drive on the trail Motorized vehicles should generally not be allowed on the trail but a special provision should be made for e-bike users who are medically unable to propel a conventional bicycle using muscular power alone                                                     1\n",
       "The bylaw should be modified to allow the 'pedal assist bicycle' type of e-bikes The bylaw should be rescinded so that any kind of recreational motor vehicle can drive on the trail                                                                                                                                                                                                                                                                                                                                                                        1\n",
       "No changes are necessary to the existing bylaw The bylaw should be modified to allow any kind of e-bike including scooter type e-bikes use the trail                                                                                                                                                                                                                                                                                                                                                                                                        1\n",
       "Name: Currently any kind of e-bike may use a multi-use path if they are propelled by pedaling only and those propelled by motor power may be fined , dtype: int64"
      ]
     },
     "metadata": {},
     "output_type": "display_data"
    },
    {
     "name": "stdout",
     "output_type": "stream",
     "text": [
      "\n",
      "---- When you use Toronto's bicycle lanes do you mostly ---\n",
      "\n"
     ]
    },
    {
     "data": {
      "text/plain": [
       "ride a commuter or cruiser style bicycle                                                                                                                                                            705\n",
       "ride a road bicycle or a fixie                                                                                                                                                                      574\n",
       "ride a mountain downhill or BMX bicycle                                                                                                                                                             347\n",
       "I do not use bicycle lanes                                                                                                                                                                          288\n",
       "pedal a pedal assist type e-bike                                                                                                                                                                    117\n",
       "drive a scooter type e-bike propelled by an electric motor                                                                                                                                          109\n",
       "ride a folding or recumbent                                                                                                                                                                          30\n",
       "Bixi                                                                                                                                                                                                  3\n",
       "ride a hybrid bicycle                                                                                                                                                                                 2\n",
       "I ride a hybrid                                                                                                                                                                                       2\n",
       "ride bike pulling trailer with kids                                                                                                                                                                   2\n",
       "Motorcycle                                                                                                                                                                                            2\n",
       "oops                                                                                                                                                                                                  1\n",
       "ride an ancient 3-speed bike                                                                                                                                                                          1\n",
       "I ride a single speed bike but rarely if ever in bike lanes; I can keep up with motor vehicle traffic traffic on my bike and I feel unsafe in bike lanes due to all of the scooter-style e-bikes      1\n",
       "I ride my e-bike in the bike lane It is extremely unsafe to ride an e-bike with the regular car traffic                                                                                               1\n",
       "I only use bike lanes with my e-bike when necessary as I know it is currently illegal                                                                                                                 1\n",
       "E-bikes are banned from bike lanes as such I do not use bike lanes                                                                                                                                    1\n",
       "I do not like riding my pedal cruiser style bike on the road bike lanes any more too dangerous Even the paths and trails can be dangerous now too                                                     1\n",
       "I only use the bicycle lane if a car wants to pass                                                                                                                                                    1\n",
       "my bicycle is attached to my mom's                                                                                                                                                                    1\n",
       "i have several bikes                                                                                                                                                                                  1\n",
       "three wheel bicycle                                                                                                                                                                                   1\n",
       "If lane is in occupied by bikes I do drive on it but if it has lots of bikes I don't                                                                                                                  1\n",
       "there are no bicycle lanes on my commute but i use a cruiser/commuter bike                                                                                                                            1\n",
       "                                                                                                                                                                                                   ... \n",
       "If I purchase an e-bike them I would like to be able to use it on bike lanes responsiby                                                                                                               1\n",
       "ride a hybrid bicycle (mountain/commuter)                                                                                                                                                             1\n",
       "use a bixi                                                                                                                                                                                            1\n",
       "Duel Sport Bicycle                                                                                                                                                                                    1\n",
       "I commute on different kinds of bikes                                                                                                                                                                 1\n",
       "Why not just ask if we ride an e-bike or not? Fixie cruiser etc is irrelevant                                                                                                                         1\n",
       "yes in mississauga/no in toronto                                                                                                                                                                      1\n",
       "I commute on my '80s steel road bike with upright bars a free wheel and a single speed                                                                                                                1\n",
       "Do not use e-bikes may not use bike lanes Bylaw #886                                                                                                                                                  1\n",
       "ride a cargo bike                                                                                                                                                                                     1\n",
       "I used to ride a commuter bicycle but then it got stolen I don't want to buy another one because they just get stolen all the time                                                                    1\n",
       "As a motorcyclist I think bicycle lanes should be used for motorcycles to pass other vehicles when safe to do so and at red lights                                                                    1\n",
       "motor an electric assist bicycle                                                                                                                                                                      1\n",
       "bike with a trailer bike for my son                                                                                                                                                                   1\n",
       "What bike lanes?                                                                                                                                                                                      1\n",
       "tandem                                                                                                                                                                                                1\n",
       "5000W custom high power electric bicycle (non-scooter)                                                                                                                                                1\n",
       "use bicycle lanes only to avoid slowing down car traffic only when bicycles are not in sight                                                                                                          1\n",
       "rollerblades                                                                                                                                                                                          1\n",
       "I ride my motorcycle in the bicycle lanes                                                                                                                                                             1\n",
       "what's a fixie?                                                                                                                                                                                       1\n",
       "ride a touring bike - a road bicycle built for comfort and efficiency not speed                                                                                                                       1\n",
       "hybrid                                                                                                                                                                                                1\n",
       "skateboard/longboard                                                                                                                                                                                  1\n",
       "You folks realize that most pedal-assist e-bikes have throttles too right? Pedaling is optional regardless of the frame type                                                                          1\n",
       "Name: When you use Toronto's bicycle lanes do you mostly, Length: 69, dtype: int64"
      ]
     },
     "metadata": {},
     "output_type": "display_data"
    },
    {
     "name": "stdout",
     "output_type": "stream",
     "text": [
      "\n",
      "---- Currently any kind of e-bike may use a bicycle lane if they are propelled by pedaling only and those propelled by motor power may be fined  ---\n",
      "\n"
     ]
    },
    {
     "data": {
      "text/plain": [
       "No changes are necessary to the existing bylaw                                                                                                                                                                                                                                                                                                                                                                                                                                                                                                                                                            664\n",
       "Motorized vehicles should generally not be allowed in bicycle lanes but a special provision should be made for e-bike users who are medically unable to propel a conventional bicycle using muscular power alone                                                                                                                                                                                                                                                                                                                                                                                          415\n",
       "The bylaw should be modified to allow 'pedal assist' type e-bikes to pedal but get a battery boost                                                                                                                                                                                                                                                                                                                                                                                                                                                                                                        169\n",
       "The bylaw should be modified to allow all kinds of e-bikes to drive in bicycle lanes without pedalling but there should be some restrictions (eg width weight speed)                                                                                                                                                                                                                                                                                                                                                                                                                                      159\n",
       "The bylaw should be modified to allow e-bikes to drive in bicycle lanes using their motors and not pedalling without any restrictions set in place by the City (eg width weight speed)                                                                                                                                                                                                                                                                                                                                                                                                                    152\n",
       "The bylaw should be modified to allow 'pedal assist' type e-bikes to pedal but get a battery boost The bylaw should be modified to allow all kinds of e-bikes to drive in bicycle lanes without pedalling but there should be some restrictions (eg width weight speed)                                                                                                                                                                                                                                                                                                                                    73\n",
       "No changes are necessary to the existing bylaw Motorized vehicles should generally not be allowed in bicycle lanes but a special provision should be made for e-bike users who are medically unable to propel a conventional bicycle using muscular power alone                                                                                                                                                                                                                                                                                                                                            70\n",
       "The bylaw should be modified to allow e-bikes to use bicycle lanes in suburban areas but not in busy downtown bicycle lanes Motorized vehicles should generally not be allowed in bicycle lanes but a special provision should be made for e-bike users who are medically unable to propel a conventional bicycle using muscular power alone                                                                                                                                                                                                                                                               41\n",
       "The bylaw should be modified to allow 'pedal assist' type e-bikes to pedal but get a battery boost Motorized vehicles should generally not be allowed in bicycle lanes but a special provision should be made for e-bike users who are medically unable to propel a conventional bicycle using muscular power alone                                                                                                                                                                                                                                                                                        37\n",
       "The bylaw should be modified to allow e-bikes to use bicycle lanes in suburban areas but not in busy downtown bicycle lanes                                                                                                                                                                                                                                                                                                                                                                                                                                                                                31\n",
       "The bylaw should be modified to allow 'pedal assist' type e-bikes to pedal but get a battery boost The bylaw should be modified to allow e-bikes to drive in bicycle lanes using their motors and not pedalling without any restrictions set in place by the City (eg width weight speed)                                                                                                                                                                                                                                                                                                                  25\n",
       "The bylaw should be modified to allow all kinds of e-bikes to drive in bicycle lanes without pedalling but there should be some restrictions (eg width weight speed) The bylaw should be modified to allow e-bikes to drive in bicycle lanes using their motors and not pedalling without any restrictions set in place by the City (eg width weight speed)                                                                                                                                                                                                                                                21\n",
       "The bylaw should be modified to allow all kinds of e-bikes to drive in bicycle lanes without pedalling but there should be some restrictions (eg width weight speed) Motorized vehicles should generally not be allowed in bicycle lanes but a special provision should be made for e-bike users who are medically unable to propel a conventional bicycle using muscular power alone                                                                                                                                                                                                                      20\n",
       "The bylaw should be modified to allow 'pedal assist' type e-bikes to pedal but get a battery boost The bylaw should be modified to allow all kinds of e-bikes to drive in bicycle lanes without pedalling but there should be some restrictions (eg width weight speed) The bylaw should be modified to allow e-bikes to drive in bicycle lanes using their motors and not pedalling without any restrictions set in place by the City (eg width weight speed)                                                                                                                                             15\n",
       "The bylaw should be modified to allow 'pedal assist' type e-bikes to pedal but get a battery boost The bylaw should be modified to allow e-bikes to use bicycle lanes in suburban areas but not in busy downtown bicycle lanes Motorized vehicles should generally not be allowed in bicycle lanes but a special provision should be made for e-bike users who are medically unable to propel a conventional bicycle using muscular power alone                                                                                                                                                            13\n",
       "No changes are necessary to the existing bylaw The bylaw should be modified to allow e-bikes to use bicycle lanes in suburban areas but not in busy downtown bicycle lanes                                                                                                                                                                                                                                                                                                                                                                                                                                 11\n",
       "No changes are necessary to the existing bylaw The bylaw should be modified to allow 'pedal assist' type e-bikes to pedal but get a battery boost                                                                                                                                                                                                                                                                                                                                                                                                                                                          10\n",
       "The bylaw should be modified to allow 'pedal assist' type e-bikes to pedal but get a battery boost The bylaw should be modified to allow all kinds of e-bikes to drive in bicycle lanes without pedalling but there should be some restrictions (eg width weight speed) Motorized vehicles should generally not be allowed in bicycle lanes but a special provision should be made for e-bike users who are medically unable to propel a conventional bicycle using muscular power alone                                                                                                                   10\n",
       "The bylaw should be modified to allow e-bikes to drive in bicycle lanes using their motors and not pedalling without any restrictions set in place by the City (eg width weight speed) Motorized vehicles should generally not be allowed in bicycle lanes but a special provision should be made for e-bike users who are medically unable to propel a conventional bicycle using muscular power alone                                                                                                                                                                                                    10\n",
       "The bylaw should be modified to allow 'pedal assist' type e-bikes to pedal but get a battery boost The bylaw should be modified to allow e-bikes to use bicycle lanes in suburban areas but not in busy downtown bicycle lanes                                                                                                                                                                                                                                                                                                                                                                              9\n",
       "The bylaw should be modified to allow all kinds of e-bikes to drive in bicycle lanes without pedalling but there should be some restrictions (eg width weight speed) The bylaw should be modified to allow e-bikes to use bicycle lanes in suburban areas but not in busy downtown bicycle lanes                                                                                                                                                                                                                                                                                                            8\n",
       "No changes are necessary to the existing bylaw The bylaw should be modified to allow e-bikes to use bicycle lanes in suburban areas but not in busy downtown bicycle lanes Motorized vehicles should generally not be allowed in bicycle lanes but a special provision should be made for e-bike users who are medically unable to propel a conventional bicycle using muscular power alone                                                                                                                                                                                                                 8\n",
       "The bylaw should be modified to allow 'pedal assist' type e-bikes to pedal but get a battery boost The bylaw should be modified to allow all kinds of e-bikes to drive in bicycle lanes without pedalling but there should be some restrictions (eg width weight speed) The bylaw should be modified to allow e-bikes to use bicycle lanes in suburban areas but not in busy downtown bicycle lanes                                                                                                                                                                                                         7\n",
       "The bylaw should be modified to allow e-bikes to drive in bicycle lanes using their motors and not pedalling without any restrictions set in place by the City (eg width weight speed) The bylaw should be modified to allow e-bikes to use bicycle lanes in suburban areas but not in busy downtown bicycle lanes                                                                                                                                                                                                                                                                                          5\n",
       "The bylaw should be modified to allow all kinds of e-bikes to drive in bicycle lanes without pedalling but there should be some restrictions (eg width weight speed) The bylaw should be modified to allow e-bikes to use bicycle lanes in suburban areas but not in busy downtown bicycle lanes Motorized vehicles should generally not be allowed in bicycle lanes but a special provision should be made for e-bike users who are medically unable to propel a conventional bicycle using muscular power alone                                                                                           4\n",
       "                                                                                                                                                                                                                                                                                                                                                                                                                                                                                                                                                                                                         ... \n",
       "The bylaw should be modified to allow e-bikes to use bicycle lanes in suburban areas but not in busy downtown bicycle lanes Enforcement needs to be increased                                                                                                                                                                                                                                                                                                                                                                                                                                               1\n",
       "No changes are necessary to the existing bylaw The bylaw should be modified to allow 'pedal assist' type e-bikes to pedal but get a battery boost The bylaw should be modified to allow all kinds of e-bikes to drive in bicycle lanes without pedalling but there should be some restrictions (eg width weight speed) ebikes should use bike lanes only if they slow down - they go too fast and weave in and out of traffic                                                                                                                                                                               1\n",
       "They should not be allowed to use the bike lane Period They are a danger to cyclists                                                                                                                                                                                                                                                                                                                                                                                                                                                                                                                        1\n",
       "No changes are necessary to the existing bylaw The bylaw should be modified to allow 'pedal assist' type e-bikes to pedal but get a battery boost I'm not sure I would like to know about studies done re: safety or what other cities are doing about this I'm not an expert in e-bikes                                                                                                                                                                                                                                                                                                                    1\n",
       "Bylaw doesn't work  i have yet to see an ebike being pedalled  They use their motor constantly                                                                                                                                                                                                                                                                                                                                                                                                                                                                                                              1\n",
       "No changes are necessary to the existing bylaw It seems rediculous to have this law as there is firstly no one ever pedalling an e-bike and secondly absolutely no enforcement of this law  If it was enforced it would be a good thing  However it also bears mentioning that the majoirty of e-bikes in the city are of a design that would make it physically impossible to pedal                                                                                                                                                                                                                        1\n",
       "I think that e-bikes are more a problem since they have been introduced and allowed for use                                                                                                                                                                                                                                                                                                                                                                                                                                                                                                                 1\n",
       "The bylaw should be modified to allow all kinds of e-bikes to drive in bicycle lanes without pedalling but there should be some restrictions (eg width weight speed) The bylaw should be modified to allow e-bikes to drive in bicycle lanes using their motors and not pedalling without any restrictions set in place by the City (eg width weight speed) I think motorcycles and gas scooters should be allowed to use bicycle lanes to filter past stopped cars in heavy traffic Provided they follow strict speed limits and behave safely around cyclists to avoid injury                             1\n",
       "Automatic limit the motorized speed depending on location                                                                                                                                                                                                                                                                                                                                                                                                                                                                                                                                                   1\n",
       "I don't know enough about ebikes to answer these questions properly                                                                                                                                                                                                                                                                                                                                                                                                                                                                                                                                         1\n",
       "The bylaw should be modified to allow all kinds of e-bikes to drive in bicycle lanes without pedalling but there should be some restrictions (eg width weight speed) The bylaw should be modified to allow e-bikes to use bicycle lanes in suburban areas but not in busy downtown bicycle lanes If the e-bike is to use a bike lane the width and weight of the e-bike should not be any more than an average bicycle and should do no more damage than a bike on bike collision; effectively it should look and act like a bike                                                                           1\n",
       "Ebikes are too fast in bike lanes but too slow in traffic  Once they drive in traffic they hold up traffic and these unlicensed drivers don't obey traffic rules                                                                                                                                                                                                                                                                                                                                                                                                                                            1\n",
       "The bylaw should be modified to allow 'pedal assist' type e-bikes to pedal but get a battery boost No ebikes on bike lanes                                                                                                                                                                                                                                                                                                                                                                                                                                                                                  1\n",
       "Motorized vehicles should generally not be allowed in bicycle lanes but a special provision should be made for e-bike users who are medically unable to propel a conventional bicycle using muscular power alone e-bikes should be part of traffic like scooters or motorcycles are  They are not bikes and I've never seen anyone pedaling them while in a bike lane  Not one person                                                                                                                                                                                                                       1\n",
       "Ebikes should not be allowed                                                                                                                                                                                                                                                                                                                                                                                                                                                                                                                                                                                1\n",
       "The bylaw should be modified to allow 'pedal assist' type e-bikes to pedal but get a battery boost The bylaw should be modified to allow all kinds of e-bikes to drive in bicycle lanes without pedalling but there should be some restrictions (eg width weight speed) Motorized vehicles should generally not be allowed in bicycle lanes but a special provision should be made for e-bike users who are medically unable to propel a conventional bicycle using muscular power alone SPEED SHOULD BE REGULATED                                                                                          1\n",
       "Motorized vehicles should generally not be allowed in bicycle lanes but a special provision should be made for e-bike users who are medically unable to propel a conventional bicycle using muscular power alone I answered this and the last question choosing the medical provision option but i wll guarantee that e-bikers will use this as a loophole to circumvent any and all rules                                                                                                                                                                                                                  1\n",
       "Motorized vehicles should generally not be allowed in bicycle lanes but a special provision should be made for e-bike users who are medically unable to propel a conventional bicycle using muscular power alone I see a lot of potential accidents in the bicycle lane with e-bikes as well as having witnessed dangerous situations                                                                                                                                                                                                                                                                       1\n",
       "No changes are necessary to the existing bylaw I have never seen this enforced This should be regularly monitored                                                                                                                                                                                                                                                                                                                                                                                                                                                                                           1\n",
       "Motorized vehicles should generally not be allowed in bicycle lanes but a special provision should be made for e-bike users who are medically unable to propel a conventional bicycle using muscular power alone On a side note I have never in the last 2 years seen an e-bike user pedaling Never  They have always been motorized vehicles occupying bike lane space                                                                                                                                                                                                                                     1\n",
       "The bylaw should be modified to allow e-bikes to use bicycle lanes in suburban areas but not in busy downtown bicycle lanes Motorized vehicles should generally not be allowed in bicycle lanes but a special provision should be made for e-bike users who are medically unable to propel a conventional bicycle using muscular power alone motorized vehicles should not be allowed in bike lanes period They are wider heavier and dangerous as no licensing is required they are also not insured should an accident happen and I NEVER have seen e-bikers use pedals on or off bike trails/lanes       1\n",
       "the fines should be much stiffer; I only ever see them using the motor and I bike a lot                                                                                                                                                                                                                                                                                                                                                                                                                                                                                                                     1\n",
       "Only bicycles should be allowed in the bicycle lane these are not ebikes they are motorized vehicles                                                                                                                                                                                                                                                                                                                                                                                                                                                                                                        1\n",
       "nothing except human powered bicycles in the bike lane                                                                                                                                                                                                                                                                                                                                                                                                                                                                                                                                                      1\n",
       "No ebikes in bicycle lanes                                                                                                                                                                                                                                                                                                                                                                                                                                                                                                                                                                                  1\n",
       "Name: Currently any kind of e-bike may use a bicycle lane if they are propelled by pedaling only and those propelled by motor power may be fined , Length: 258, dtype: int64"
      ]
     },
     "metadata": {},
     "output_type": "display_data"
    },
    {
     "name": "stdout",
     "output_type": "stream",
     "text": [
      "\n",
      "---- With regards to illegal use of bicycles and e-bikes on sidewalks should the City  ---\n",
      "\n"
     ]
    },
    {
     "data": {
      "text/plain": [
       "maintain the existing programs for signage education and enforcement                                                                                                                                                                                                                493\n",
       "increase enforcement                                                                                                                                                                                                                                                                348\n",
       "increase signage increase enforcement increase education                                                                                                                                                                                                                            347\n",
       "increase enforcement increase education                                                                                                                                                                                                                                             165\n",
       "increase education                                                                                                                                                                                                                                                                  116\n",
       "increase signage increase enforcement                                                                                                                                                                                                                                               112\n",
       "increase signage increase education                                                                                                                                                                                                                                                  87\n",
       "maintain the existing programs for signage education and enforcement increase signage increase enforcement increase education                                                                                                                                                        83\n",
       "maintain the existing programs for signage education and enforcement increase enforcement                                                                                                                                                                                            72\n",
       "maintain the existing programs for signage education and enforcement increase education                                                                                                                                                                                              66\n",
       "increase signage                                                                                                                                                                                                                                                                     44\n",
       "maintain the existing programs for signage education and enforcement increase enforcement increase education                                                                                                                                                                         34\n",
       "maintain the existing programs for signage education and enforcement increase signage increase education                                                                                                                                                                             30\n",
       "maintain the existing programs for signage education and enforcement increase signage increase enforcement                                                                                                                                                                           17\n",
       "maintain the existing programs for signage education and enforcement increase signage                                                                                                                                                                                                15\n",
       "increase signage increase education communicate clearly whether or not children are allowed to cycle on sidewalks  I consider this an essential right given how dangerous are roads currently are for cyclists                                                                        1\n",
       "increase signage Licence all bicycles & e-bikes                                                                                                                                                                                                                                       1\n",
       "increase enforcement increase education Children are the only people who should be allowed to cycle on sidewalks                                                                                                                                                                      1\n",
       "increase enforcement increase education Improve on-street conditions so that people feel/are safer                                                                                                                                                                                    1\n",
       "make exceptions for areas where cyclists feel danger riding on the road                                                                                                                                                                                                               1\n",
       "Create safe places to ride on the road                                                                                                                                                                                                                                                1\n",
       "Non-motor assisted bicycles should be allowed on sidewalks as they are often a hazard on the street                                                                                                                                                                                   1\n",
       "allow sidewalk travel except within 5m of pedestrians                                                                                                                                                                                                                                 1\n",
       "recognize that occasionally a cyclist needs to encroach on the sidewalk when they get squeezed off the road                                                                                                                                                                           1\n",
       "increase education increase education on cars not blocking bike lanes  There's a trickle down effect                                                                                                                                                                                  1\n",
       "                                                                                                                                                                                                                                                                                   ... \n",
       "increase enforcement e-bikes should be illegal                                                                                                                                                                                                                                        1\n",
       "Add bicycle exception traffic lights and signs where appropriate                                                                                                                                                                                                                      1\n",
       "increase enforcement Major fines for any type of bicycle/e-bike/whatever on a sidewalk with exception of riders under age of 12                                                                                                                                                       1\n",
       "maintain the existing programs for signage education and enforcement increase education improve bike infrastructure so that casual cyclists aren't scared into using the sidewalk                                                                                                     1\n",
       "allow ebikes on sidewalks                                                                                                                                                                                                                                                             1\n",
       "increase education Make more bike lanes                                                                                                                                                                                                                                               1\n",
       "allow bikes on sidewalks                                                                                                                                                                                                                                                              1\n",
       "increase bike lanes and bike lane barriers                                                                                                                                                                                                                                            1\n",
       "increase signage increase enforcement too many ebikes are using sidewalks                                                                                                                                                                                                             1\n",
       "increase signage increase enforcement increase education GET THE BIKES OFF THE SIDE WALKS (unless they are under 16 years of age then its fine)                                                                                                                                       1\n",
       "allow                                                                                                                                                                                                                                                                                 1\n",
       "increase signage increase enforcement limited use/speed limit 8k                                                                                                                                                                                                                      1\n",
       "increase enforcement increase education allow it in area where it is dangerous to ride on the roads and for those under 16                                                                                                                                                            1\n",
       "enforce the bylaw where sharing with pedestrians is hazardous                                                                                                                                                                                                                         1\n",
       "increase enforcement actually ENFORCE the bylaw against riding on sidewalks!!                                                                                                                                                                                                         1\n",
       "increase signage increase enforcement increase education Require cyclists to be licensed                                                                                                                                                                                              1\n",
       "increase signage increase enforcement increase education ebikes should be banned from sidewalks                                                                                                                                                                                       1\n",
       "maintain the existing programs for signage education and enforcement increase enforcement increase education If you make rules you have to enforce them  Unfortunately if you make too many rules it becomes more difficult to enforce them all if you have to little resources       1\n",
       "maintain the existing programs for signage education and enforcement increase enforcement Increase Enforcement Seriously One or two officers at random intersections at random days stopping and ticketing this invasive cyclists and ebikers                                         1\n",
       "Makes streets safer so that people feel less reason to ride on sidewalks                                                                                                                                                                                                              1\n",
       "maintain the existing programs for signage education and enforcement increase education Also include motorist education about cyclists' right to use the roadway                                                                                                                      1\n",
       "should share the sidewalks where and when it is prudent                                                                                                                                                                                                                               1\n",
       "increase education tell drivers this too!                                                                                                                                                                                                                                             1\n",
       "increase education let cyclists use sidewalks as long as they're not in anyone's way or being jerks                                                                                                                                                                                   1\n",
       "allow bikes when there's danger present on the adjacent roads                                                                                                                                                                                                                         1\n",
       "Name: With regards to illegal use of bicycles and e-bikes on sidewalks should the City , Length: 224, dtype: int64"
      ]
     },
     "metadata": {},
     "output_type": "display_data"
    },
    {
     "name": "stdout",
     "output_type": "stream",
     "text": [
      "\n",
      "---- Toronto Bylaws consider personal mobility devices (such as electric wheel chairs) to be pedestrians In your opinion should the City ---\n",
      "\n"
     ]
    },
    {
     "data": {
      "text/plain": [
       "Update the definition of a personal mobility device so that they must travel at speeds close to walking speed                                                                                                                                                                                                                                                                             1379\n",
       "Institute a speed limit for sidewalks                                                                                                                                                                                                                                                                                                                                                      374\n",
       "Do nothing                                                                                                                                                                                                                                                                                                                                                                                 235\n",
       "Don't Know / Rather Not Answer                                                                                                                                                                                                                                                                                                                                                             167\n",
       "Allow wheelchairs to be either on sidewalks or in bike lanes as long as they follow the rules of the road                                                                                                                                                                                                                                                                                    1\n",
       "Reduce the speeds of mobile wheelchairs They are too fast for side walks                                                                                                                                                                                                                                                                                                                     1\n",
       "both update the definition and institute speed limits for sidewalks                                                                                                                                                                                                                                                                                                                          1\n",
       "I have often seen motorized wheelchairs being driven in bicycle lanes or along the side of the road as if they were cars Mobility devices ought to be on the sidewalk and being driven at reasonable speeds depending on sidewalk traffic                                                                                                                                                    1\n",
       "special lanes for power-assisted human-powered and handicap-assist vehicles                                                                                                                                                                                                                                                                                                                  1\n",
       "Tough to say Wish the other questions had the Don't Know option like this one Leaning towards your second option but City should work with disabled orgs on this one                                                                                                                                                                                                                         1\n",
       "Just as running is permitted on sidewalks so too should faster mobility devices be permitted in principle with risk and liability placed on the user's discretion                                                                                                                                                                                                                            1\n",
       "Hold individuals responsible for their actions                                                                                                                                                                                                                                                                                                                                               1\n",
       "Update the definition Limit speeds on sidewalks And make them responsible and tickitable for violation I have almost had my foot ran over twice On top of that The one time one of them cut me off the one time as i walked She did run over my foot The only reson I didn't suffer any real injury was because my boot was shanked with Carbon Fiber Plates                                 1\n",
       "Include a requirement for bells or other device to be used when travelling at faster speeds                                                                                                                                                                                                                                                                                                  1\n",
       "a speed limit on sidewalks would also limit bike speeds if bikes allowed on sidewalks                                                                                                                                                                                                                                                                                                        1\n",
       "I have no problem what a person mobility device that acts as a wheelchair otherwise bikes ebikes cars are all vehicles and belong on the road period                                                                                                                                                                                                                                         1\n",
       "have them allowed up to a speed faster than walking but slower than a sprint - say Jogging speed - about double walking speed This would allow safe and quick crossing at crosswalks and allow a speed that does not clog pedestrian flow due to a slow moving object                                                                                                                        1\n",
       "provide more education on the safety implications of mobility devices (and bicycles) and sidewalks                                                                                                                                                                                                                                                                                           1\n",
       "Education for personal mobility devices to travel safely                                                                                                                                                                                                                                                                                                                                     1\n",
       "speed limit and mobility vehicles for health reasons should require a doctors note                                                                                                                                                                                                                                                                                                           1\n",
       "I cant walk! You are trying to make it so it takes 1/2 hr to get to the store instead of 5 minutes                                                                                                                                                                                                                                                                                           1\n",
       "encourage people to be reasonable and kind                                                                                                                                                                                                                                                                                                                                                   1\n",
       "I like number two but this survey should have an oprtion stating that persons with mobility devices should be banned from using bike lanes  This is a *safety* issue  The walks have cuts and there is no reason for them to be in the bike lane other that they do not want to go slower than pedestrians                                                                                   1\n",
       "only wheelchairs at walking speed                                                                                                                                                                                                                                                                                                                                                            1\n",
       "NO BIKES ON SIDEWALKS - EVER!                                                                                                                                                                                                                                                                                                                                                                1\n",
       "                                                                                                                                                                                                                                                                                                                                                                                          ... \n",
       "Again I'd need to see some research and hear about what's happening in other cities I'm not sure                                                                                                                                                                                                                                                                                             1\n",
       "You're missing the point  It's not the slow moving vehicles that are the problem it's the cars                                                                                                                                                                                                                                                                                               1\n",
       "As a pedestrian I have been personally afraid of quick moving individuals driving mobility devices on sidewalks  I believe a speed limit may be appropriate but I am not sure if this infringes the rights of the physically challenged                                                                                                                                                      1\n",
       "Treat them as bikes and allow them (and e-bikes!) access to bicycle lanes!                                                                                                                                                                                                                                                                                                                   1\n",
       "If they travel at speeds of MORE than walking speed they should NOT be allowed on sidewalk  Only people walking and children on bikes/rollerblades etc should be on sidewalk                                                                                                                                                                                                                 1\n",
       "the city needs to increase enforcement so people don't drive personal mobility devices on the road and/or bikes lanes                                                                                                                                                                                                                                                                        1\n",
       "No one will pay attention to sidewalk speed limits unless there is enforcement I live near a retirement home and many people use these superfast chairs on the road and the sidewalk This should be prohibited especially since the home is next to a school I have nearly been run over by these superfast chairs and the owners give ME a dirty look for not moving out of the way!        1\n",
       "institute a speed limit - for personal mobility devices when used on sidewalks                                                                                                                                                                                                                                                                                                               1\n",
       "Allow it but max speed botton at 6 km/h                                                                                                                                                                                                                                                                                                                                                      1\n",
       "Have the fast ones use the bike lane slower ones use the sidewalk                                                                                                                                                                                                                                                                                                                            1\n",
       "Ban them period Too slow for the road too fast/heavy for sidewalks                                                                                                                                                                                                                                                                                                                           1\n",
       "Institute a speed limit for sidewalks WHEN pedestrians are present and ahead of the electric traveler                                                                                                                                                                                                                                                                                        1\n",
       "Educate those users; a by-law with a flexible reasonable and safe or appropriate to circumstances condition IT is reasonable for someone on one of these machines to travel more quickly than walking speed on many large sparsely used sidewalks                                                                                                                                            1\n",
       "seniors are responsible mobility users                                                                                                                                                                                                                                                                                                                                                       1\n",
       "mobility scooters are not to slow and I have seen them really moving down sidewalks and on bike lanes so don't pin it all on ebikes Just get rid of the car and all problems are solved They are the only ones complaining                                                                                                                                                                   1\n",
       "pedal assisted bikes should travel on the road with other bikes Sidewalks are for pedestrians and those traveling by wheel chair                                                                                                                                                                                                                                                             1\n",
       "ban everything on the sidewalk except for walking an personal mobility devices for people with disabililities                                                                                                                                                                                                                                                                                1\n",
       "When travelling on a sidewalk personal mobility devices should be capped at 5K an hour                                                                                                                                                                                                                                                                                                       1\n",
       "we have enough rules already in Toronto that people don't follow                                                                                                                                                                                                                                                                                                                             1\n",
       "Require bells                                                                                                                                                                                                                                                                                                                                                                                1\n",
       "don't allow the sale of these high-speed mobility devices Why not stop the problem at the root?                                                                                                                                                                                                                                                                                              1\n",
       "ebikes should not be allowed on the side walk                                                                                                                                                                                                                                                                                                                                                1\n",
       "most I have seen if they want to go fast will go in the bike lane - I feel having mobility issues is difficult enough without making things tougher                                                                                                                                                                                                                                          1\n",
       "The people that operate them are reckless; driving in the road running lights I saw one hit a pedestrian                                                                                                                                                                                                                                                                                     1\n",
       "If personal mobility devices must be on the sidewalk their speed needs to be much slower - if that it is not possible speed limits are necessary and need to be enforced however I see this as contuing risk and think where if they can't be slowed down they can't be on the sidewalk                                                                                                      1\n",
       "Name: Toronto Bylaws consider personal mobility devices (such as electric wheel chairs) to be pedestrians In your opinion should the City, Length: 81, dtype: int64"
      ]
     },
     "metadata": {},
     "output_type": "display_data"
    }
   ],
   "source": [
    "for c in df_raw.columns:\n",
    "    print(\"\\n---- %s ---\\n\" % c)\n",
    "    display(df_raw[c].value_counts())"
   ]
  },
  {
   "cell_type": "markdown",
   "metadata": {},
   "source": [
    "### Note\n",
    "\n",
    "* In many columns, most people answered according to the **given, fixed responses**, with a minority answering with their own typed responses (likely under an \"Other: Please Specify\" option).\n",
    "* To include all these uniquely typed responses would overload our model. We seek to eliminate them. First we will see how many responses we omit responses with < 3 occurences.\n",
    "\n",
    "Note that there are 2238 rows in total.\n"
   ]
  },
  {
   "cell_type": "code",
   "execution_count": 7,
   "metadata": {},
   "outputs": [
    {
     "name": "stdout",
     "output_type": "stream",
     "text": [
      "\n",
      "---- Timestamp ---\n",
      "\n",
      "After omitting responses with < 5 occurences\n",
      "There are 119 / 2238 responses\n",
      "Fraction kept: 0.0532\n",
      "Remaining responses 22 out of 1722\n",
      "\n",
      "---- What age range do you fall in? ---\n",
      "\n",
      "After omitting responses with < 5 occurences\n",
      "There are 2234 / 2238 responses\n",
      "Fraction kept: 0.9982\n",
      "Remaining responses 5 out of 5\n",
      "\n",
      "---- Sex ---\n",
      "\n",
      "After omitting responses with < 5 occurences\n",
      "There are 2211 / 2238 responses\n",
      "Fraction kept: 0.9879\n",
      "Remaining responses 2 out of 12\n",
      "\n",
      "---- How would you describe your level of physical health? ---\n",
      "\n",
      "After omitting responses with < 5 occurences\n",
      "There are 2220 / 2238 responses\n",
      "Fraction kept: 0.9920\n",
      "Remaining responses 5 out of 12\n",
      "\n",
      "---- What level of education have you reached? ---\n",
      "\n",
      "After omitting responses with < 5 occurences\n",
      "There are 2199 / 2238 responses\n",
      "Fraction kept: 0.9826\n",
      "Remaining responses 4 out of 24\n",
      "\n",
      "---- What is your household income? ---\n",
      "\n",
      "After omitting responses with < 5 occurences\n",
      "There are 2178 / 2238 responses\n",
      "Fraction kept: 0.9732\n",
      "Remaining responses 6 out of 6\n",
      "\n",
      "---- Which category best describes your employment? ---\n",
      "\n",
      "After omitting responses with < 5 occurences\n",
      "There are 2195 / 2238 responses\n",
      "Fraction kept: 0.9808\n",
      "Remaining responses 7 out of 33\n",
      "\n",
      "---- What Toronto district is your primary address located in? ---\n",
      "\n",
      "After omitting responses with < 5 occurences\n",
      "There are 2152 / 2238 responses\n",
      "Fraction kept: 0.9616\n",
      "Remaining responses 6 out of 68\n",
      "\n",
      "---- On average what distance do you travel most days of the week? ---\n",
      "\n",
      "After omitting responses with < 5 occurences\n",
      "There are 2237 / 2238 responses\n",
      "Fraction kept: 0.9996\n",
      "Remaining responses 5 out of 5\n",
      "\n",
      "---- On average how long is your commute? ---\n",
      "\n",
      "After omitting responses with < 5 occurences\n",
      "There are 2237 / 2238 responses\n",
      "Fraction kept: 0.9996\n",
      "Remaining responses 6 out of 6\n",
      "\n",
      "---- Which transportation option do you end up using most often? ---\n",
      "\n",
      "After omitting responses with < 5 occurences\n",
      "There are 2210 / 2238 responses\n",
      "Fraction kept: 0.9875\n",
      "Remaining responses 6 out of 33\n",
      "\n",
      "---- Does your household have access to any of the following private motorized vehicles? ---\n",
      "\n",
      "After omitting responses with < 5 occurences\n",
      "There are 2107 / 2238 responses\n",
      "Fraction kept: 0.9415\n",
      "Remaining responses 10 out of 123\n",
      "\n",
      "---- Do you support any of the following statements? ---\n",
      "\n",
      "After omitting responses with < 5 occurences\n",
      "There are 1499 / 2238 responses\n",
      "Fraction kept: 0.6698\n",
      "Remaining responses 112 out of 534\n",
      "\n",
      "---- When you use Toronto's Multi-Use Trails do you mostly ---\n",
      "\n",
      "After omitting responses with < 5 occurences\n",
      "There are 2162 / 2238 responses\n",
      "Fraction kept: 0.9660\n",
      "Remaining responses 32 out of 89\n",
      "\n",
      "---- Are you aware that the Multi-Use Paths have a speed limit of 20 km/h? ---\n",
      "\n",
      "After omitting responses with < 5 occurences\n",
      "There are 2238 / 2238 responses\n",
      "Fraction kept: 1.0000\n",
      "Remaining responses 2 out of 2\n",
      "\n",
      "---- Have you witnessed a collision or conflict on a trail between ---\n",
      "\n",
      "After omitting responses with < 5 occurences\n",
      "There are 2033 / 2238 responses\n",
      "Fraction kept: 0.9084\n",
      "Remaining responses 69 out of 221\n",
      "\n",
      "---- Do you think more should be done to manage trail users who do not respect the 20 km/h speed limit? ---\n",
      "\n",
      "After omitting responses with < 5 occurences\n",
      "There are 2110 / 2238 responses\n",
      "Fraction kept: 0.9428\n",
      "Remaining responses 10 out of 134\n",
      "\n",
      "---- Currently any kind of e-bike may use a multi-use path if they are propelled by pedaling only and those propelled by motor power may be fined  ---\n",
      "\n",
      "After omitting responses with < 5 occurences\n",
      "There are 2224 / 2238 responses\n",
      "Fraction kept: 0.9937\n",
      "Remaining responses 16 out of 25\n",
      "\n",
      "---- When you use Toronto's bicycle lanes do you mostly ---\n",
      "\n",
      "After omitting responses with < 5 occurences\n",
      "There are 2170 / 2238 responses\n",
      "Fraction kept: 0.9696\n",
      "Remaining responses 7 out of 69\n",
      "\n",
      "---- Currently any kind of e-bike may use a bicycle lane if they are propelled by pedaling only and those propelled by motor power may be fined  ---\n",
      "\n",
      "After omitting responses with < 5 occurences\n",
      "There are 1983 / 2238 responses\n",
      "Fraction kept: 0.8861\n",
      "Remaining responses 24 out of 258\n",
      "\n",
      "---- With regards to illegal use of bicycles and e-bikes on sidewalks should the City  ---\n",
      "\n",
      "After omitting responses with < 5 occurences\n",
      "There are 2029 / 2238 responses\n",
      "Fraction kept: 0.9066\n",
      "Remaining responses 15 out of 224\n",
      "\n",
      "---- Toronto Bylaws consider personal mobility devices (such as electric wheel chairs) to be pedestrians In your opinion should the City ---\n",
      "\n",
      "After omitting responses with < 5 occurences\n",
      "There are 2155 / 2238 responses\n",
      "Fraction kept: 0.9629\n",
      "Remaining responses 4 out of 81\n"
     ]
    }
   ],
   "source": [
    "k = 5 #cut off number\n",
    "\n",
    "for c in df_raw.columns:\n",
    "    print(\"\\n---- %s ---\\n\" % c)\n",
    "    vc = df_raw[c].value_counts()\n",
    "    print('After omitting responses with < %s occurences' %k)\n",
    "    print('There are %s / 2238 responses' %vc[vc >= k].sum())\n",
    "    print('Fraction kept: %0.4f' %(vc[vc >= k].sum()/2238.))\n",
    "    print('Remaining responses %(rem)s out of %(total)s' %{'rem': len(vc[vc >= k]), 'total': len(vc)})"
   ]
  },
  {
   "cell_type": "markdown",
   "metadata": {},
   "source": [
    "### Visualization\n",
    "\n",
    "For each column, I plot the frequency of their responses to further understand which columns vary largely in their responses. "
   ]
  },
  {
   "cell_type": "code",
   "execution_count": 8,
   "metadata": {},
   "outputs": [
    {
     "name": "stdout",
     "output_type": "stream",
     "text": [
      "\n",
      "---- Timestamp ---\n",
      "\n"
     ]
    },
    {
     "data": {
      "image/png": "[encoded data removed]",
      "text/plain": [
       "<matplotlib.figure.Figure at 0x7fda9cee7fd0>"
      ]
     },
     "metadata": {},
     "output_type": "display_data"
    },
    {
     "name": "stdout",
     "output_type": "stream",
     "text": [
      "\n",
      "---- What age range do you fall in? ---\n",
      "\n"
     ]
    },
    {
     "data": {
      "image/png": "[encoded data removed]",
      "text/plain": [
       "<matplotlib.figure.Figure at 0x7fda9cc0fa90>"
      ]
     },
     "metadata": {},
     "output_type": "display_data"
    },
    {
     "name": "stdout",
     "output_type": "stream",
     "text": [
      "\n",
      "---- Sex ---\n",
      "\n"
     ]
    },
    {
     "data": {
      "image/png": "[encoded data removed]",
      "text/plain": [
       "<matplotlib.figure.Figure at 0x7fda9b721240>"
      ]
     },
     "metadata": {},
     "output_type": "display_data"
    },
    {
     "name": "stdout",
     "output_type": "stream",
     "text": [
      "\n",
      "---- How would you describe your level of physical health? ---\n",
      "\n"
     ]
    },
    {
     "data": {
      "image/png": "[encoded data removed]",
      "text/plain": [
       "<matplotlib.figure.Figure at 0x7fda9c5be518>"
      ]
     },
     "metadata": {},
     "output_type": "display_data"
    },
    {
     "name": "stdout",
     "output_type": "stream",
     "text": [
      "\n",
      "---- What level of education have you reached? ---\n",
      "\n"
     ]
    },
    {
     "data": {
      "image/png": "[encoded data removed]",
      "text/plain": [
       "<matplotlib.figure.Figure at 0x7fda9bb49cf8>"
      ]
     },
     "metadata": {},
     "output_type": "display_data"
    },
    {
     "name": "stdout",
     "output_type": "stream",
     "text": [
      "\n",
      "---- What is your household income? ---\n",
      "\n"
     ]
    },
    {
     "data": {
      "image/png": "[encoded data removed]",
      "text/plain": [
       "<matplotlib.figure.Figure at 0x7fda97c78860>"
      ]
     },
     "metadata": {},
     "output_type": "display_data"
    },
    {
     "name": "stdout",
     "output_type": "stream",
     "text": [
      "\n",
      "---- Which category best describes your employment? ---\n",
      "\n"
     ]
    },
    {
     "data": {
      "image/png": "[encoded data removed]",
      "text/plain": [
       "<matplotlib.figure.Figure at 0x7fda97c78358>"
      ]
     },
     "metadata": {},
     "output_type": "display_data"
    },
    {
     "name": "stdout",
     "output_type": "stream",
     "text": [
      "\n",
      "---- What Toronto district is your primary address located in? ---\n",
      "\n"
     ]
    },
    {
     "data": {
      "image/png": "[encoded data removed]",
      "text/plain": [
       "<matplotlib.figure.Figure at 0x7fda9c46a3c8>"
      ]
     },
     "metadata": {},
     "output_type": "display_data"
    },
    {
     "name": "stdout",
     "output_type": "stream",
     "text": [
      "\n",
      "---- On average what distance do you travel most days of the week? ---\n",
      "\n"
     ]
    },
    {
     "data": {
      "image/png": "[encoded data removed]",
      "text/plain": [
       "<matplotlib.figure.Figure at 0x7fda9c0becc0>"
      ]
     },
     "metadata": {},
     "output_type": "display_data"
    },
    {
     "name": "stdout",
     "output_type": "stream",
     "text": [
      "\n",
      "---- On average how long is your commute? ---\n",
      "\n"
     ]
    },
    {
     "data": {
      "image/png": "[encoded data removed]",
      "text/plain": [
       "<matplotlib.figure.Figure at 0x7fda9cec5978>"
      ]
     },
     "metadata": {},
     "output_type": "display_data"
    },
    {
     "name": "stdout",
     "output_type": "stream",
     "text": [
      "\n",
      "---- Which transportation option do you end up using most often? ---\n",
      "\n"
     ]
    },
    {
     "data": {
      "image/png": "[encoded data removed]",
      "text/plain": [
       "<matplotlib.figure.Figure at 0x7fda9cc0f470>"
      ]
     },
     "metadata": {},
     "output_type": "display_data"
    },
    {
     "name": "stdout",
     "output_type": "stream",
     "text": [
      "\n",
      "---- Does your household have access to any of the following private motorized vehicles? ---\n",
      "\n"
     ]
    },
    {
     "data": {
      "image/png": "[encoded data removed]",
      "text/plain": [
       "<matplotlib.figure.Figure at 0x7fda9c3e5278>"
      ]
     },
     "metadata": {},
     "output_type": "display_data"
    },
    {
     "name": "stdout",
     "output_type": "stream",
     "text": [
      "\n",
      "---- Do you support any of the following statements? ---\n",
      "\n"
     ]
    },
    {
     "data": {
      "image/png": "[encoded data removed]",
      "text/plain": [
       "<matplotlib.figure.Figure at 0x7fda9bae5ba8>"
      ]
     },
     "metadata": {},
     "output_type": "display_data"
    },
    {
     "name": "stdout",
     "output_type": "stream",
     "text": [
      "\n",
      "---- When you use Toronto's Multi-Use Trails do you mostly ---\n",
      "\n"
     ]
    },
    {
     "data": {
      "image/png": "[encoded data removed]",
      "text/plain": [
       "<matplotlib.figure.Figure at 0x7fda9b73ad30>"
      ]
     },
     "metadata": {},
     "output_type": "display_data"
    },
    {
     "name": "stdout",
     "output_type": "stream",
     "text": [
      "\n",
      "---- Are you aware that the Multi-Use Paths have a speed limit of 20 km/h? ---\n",
      "\n"
     ]
    },
    {
     "data": {
      "image/png": "[encoded data removed]",
      "text/plain": [
       "<matplotlib.figure.Figure at 0x7fda97c50898>"
      ]
     },
     "metadata": {},
     "output_type": "display_data"
    },
    {
     "name": "stdout",
     "output_type": "stream",
     "text": [
      "\n",
      "---- Have you witnessed a collision or conflict on a trail between ---\n",
      "\n"
     ]
    },
    {
     "data": {
      "image/png": "[encoded data removed]",
      "text/plain": [
       "<matplotlib.figure.Figure at 0x7fda9b9602b0>"
      ]
     },
     "metadata": {},
     "output_type": "display_data"
    },
    {
     "name": "stdout",
     "output_type": "stream",
     "text": [
      "\n",
      "---- Do you think more should be done to manage trail users who do not respect the 20 km/h speed limit? ---\n",
      "\n"
     ]
    },
    {
     "data": {
      "image/png": "[encoded data removed]",
      "text/plain": [
       "<matplotlib.figure.Figure at 0x7fda9c11e978>"
      ]
     },
     "metadata": {},
     "output_type": "display_data"
    },
    {
     "name": "stdout",
     "output_type": "stream",
     "text": [
      "\n",
      "---- Currently any kind of e-bike may use a multi-use path if they are propelled by pedaling only and those propelled by motor power may be fined  ---\n",
      "\n"
     ]
    },
    {
     "data": {
      "image/png": "[encoded data removed]",
      "text/plain": [
       "<matplotlib.figure.Figure at 0x7fda9c11e550>"
      ]
     },
     "metadata": {},
     "output_type": "display_data"
    },
    {
     "name": "stdout",
     "output_type": "stream",
     "text": [
      "\n",
      "---- When you use Toronto's bicycle lanes do you mostly ---\n",
      "\n"
     ]
    },
    {
     "data": {
      "image/png": "[encoded data removed]",
      "text/plain": [
       "<matplotlib.figure.Figure at 0x7fda9badbe48>"
      ]
     },
     "metadata": {},
     "output_type": "display_data"
    },
    {
     "name": "stdout",
     "output_type": "stream",
     "text": [
      "\n",
      "---- Currently any kind of e-bike may use a bicycle lane if they are propelled by pedaling only and those propelled by motor power may be fined  ---\n",
      "\n"
     ]
    },
    {
     "data": {
      "image/png": "[encoded data removed]",
      "text/plain": [
       "<matplotlib.figure.Figure at 0x7fda97c5e748>"
      ]
     },
     "metadata": {},
     "output_type": "display_data"
    },
    {
     "name": "stdout",
     "output_type": "stream",
     "text": [
      "\n",
      "---- With regards to illegal use of bicycles and e-bikes on sidewalks should the City  ---\n",
      "\n"
     ]
    },
    {
     "data": {
      "image/png": "[encoded data removed]",
      "text/plain": [
       "<matplotlib.figure.Figure at 0x7fda9cb223c8>"
      ]
     },
     "metadata": {},
     "output_type": "display_data"
    },
    {
     "name": "stdout",
     "output_type": "stream",
     "text": [
      "\n",
      "---- Toronto Bylaws consider personal mobility devices (such as electric wheel chairs) to be pedestrians In your opinion should the City ---\n",
      "\n"
     ]
    },
    {
     "data": {
      "image/png": "[encoded data removed]",
      "text/plain": [
       "<matplotlib.figure.Figure at 0x7fda9c5df6d8>"
      ]
     },
     "metadata": {},
     "output_type": "display_data"
    }
   ],
   "source": [
    "for c in df_raw.columns:\n",
    "    print(\"\\n---- %s ---\\n\" % c)\n",
    "    vc = df_raw[c].value_counts()\n",
    "    fig = plt.figure(figsize=(12, 4))\n",
    "    plt.title(\"Frequency of Responses of Column: '%s'\" % c)\n",
    "    plt.ylabel('Frequency')\n",
    "    plt.xlabel('Index of Response \\n (Total #: %s)' % len(vc))\n",
    "    plt.bar(np.arange(len(vc)), vc)\n",
    "    plt.show()"
   ]
  },
  {
   "cell_type": "markdown",
   "metadata": {},
   "source": [
    "### What Columns to Use?\n",
    "\n",
    "**To Omit:**\n",
    "\n",
    "* **Does your household have access to any of the following private motorized vehicles?** Label.\n",
    "* **Do you support any of the following statements?** This multi-answer question has highly varying answers. Observing the frequency graph for this column, we see that responses with frequency < 10 constitute a substantial tail of the graph. Cutting of at frequency < 5 elimnates a hefty 34% of the responses. It is possible to break each of the multi-answer responses down into a list of single-answer responses, which is an option to be explored given more time.\n",
    "\n",
    "**To Worry:**\n",
    "\n",
    "* **Have you witnessed a collision or conflict on a trail between** Though removing < 5 occurences only eliminated 10% of the responses, there are still a lot of categories left over: 69 / 221. Hopefully, our model can ignore this column if is there is too much noise.\n",
    "* **When you use Toronto's Multi-Use Trails do you mostly** 32 / 89 columns remaining.\n",
    "* **Currently any kind of e-bike may use a bicycle lane if they are propelled by pedaling only and those propelled by motor power may be fined** 24 / 258 columns remaining.\n",
    "\n",
    "\n",
    "\n",
    "The rest of the columns, with the exception of **Timestamp**, we will classify responses with < 5 frequencies as *'Other'*, as they typically indicate a uniquely-typed answer that is difficult for models to interpret. \n",
    "\n",
    "As stated before, for simplicity and time, we will not interpret multi-answer responses as a list of single-answer responses, but as different categories entirely.\n"
   ]
  },
  {
   "cell_type": "code",
   "execution_count": 9,
   "metadata": {
    "collapsed": true
   },
   "outputs": [],
   "source": [
    "omit_columns = ['Does your household have access to any of the following private motorized vehicles?', 'Do you support any of the following statements?']           \n",
    "worry_columns = ['Have you witnessed a collision or conflict on a trail between', \"When you use Toronto's Multi-Use Trails do you mostly\",\n",
    "                 'Currently any kind of e-bike may use a bicycle lane if they are propelled by pedaling only and those propelled by motor power may be fined '] "
   ]
  },
  {
   "cell_type": "code",
   "execution_count": 10,
   "metadata": {
    "collapsed": true
   },
   "outputs": [],
   "source": [
    "# Predictors\n",
    "df_pred = df_raw.drop(omit_columns, axis=1)\n"
   ]
  },
  {
   "cell_type": "code",
   "execution_count": 11,
   "metadata": {
    "scrolled": true
   },
   "outputs": [
    {
     "name": "stdout",
     "output_type": "stream",
     "text": [
      "\n",
      "---- What age range do you fall in? ---\n",
      "\n",
      "How many responses turned to 'Other': 0 / 2238\n",
      "\n",
      "---- Sex ---\n",
      "\n",
      "How many responses turned to 'Other': 10 / 2238\n",
      "\n",
      "---- How would you describe your level of physical health? ---\n",
      "\n",
      "How many responses turned to 'Other': 7 / 2238\n",
      "\n",
      "---- What level of education have you reached? ---\n",
      "\n",
      "How many responses turned to 'Other': 21 / 2238\n",
      "\n",
      "---- What is your household income? ---\n",
      "\n",
      "How many responses turned to 'Other': 0 / 2238\n",
      "\n",
      "---- Which category best describes your employment? ---\n",
      "\n",
      "How many responses turned to 'Other': 28 / 2238\n",
      "\n",
      "---- What Toronto district is your primary address located in? ---\n",
      "\n",
      "How many responses turned to 'Other': 85 / 2238\n",
      "\n",
      "---- On average what distance do you travel most days of the week? ---\n",
      "\n",
      "How many responses turned to 'Other': 0 / 2238\n",
      "\n",
      "---- On average how long is your commute? ---\n",
      "\n",
      "How many responses turned to 'Other': 0 / 2238\n",
      "\n",
      "---- Which transportation option do you end up using most often? ---\n",
      "\n",
      "How many responses turned to 'Other': 28 / 2238\n",
      "\n",
      "---- When you use Toronto's Multi-Use Trails do you mostly ---\n",
      "\n",
      "How many responses turned to 'Other': 76 / 2238\n",
      "\n",
      "---- Are you aware that the Multi-Use Paths have a speed limit of 20 km/h? ---\n",
      "\n",
      "How many responses turned to 'Other': 0 / 2238\n",
      "\n",
      "---- Have you witnessed a collision or conflict on a trail between ---\n",
      "\n",
      "How many responses turned to 'Other': 205 / 2238\n",
      "\n",
      "---- Do you think more should be done to manage trail users who do not respect the 20 km/h speed limit? ---\n",
      "\n",
      "How many responses turned to 'Other': 127 / 2238\n",
      "\n",
      "---- Currently any kind of e-bike may use a multi-use path if they are propelled by pedaling only and those propelled by motor power may be fined  ---\n",
      "\n",
      "How many responses turned to 'Other': 14 / 2238\n",
      "\n",
      "---- When you use Toronto's bicycle lanes do you mostly ---\n",
      "\n",
      "How many responses turned to 'Other': 68 / 2238\n",
      "\n",
      "---- Currently any kind of e-bike may use a bicycle lane if they are propelled by pedaling only and those propelled by motor power may be fined  ---\n",
      "\n",
      "How many responses turned to 'Other': 255 / 2238\n",
      "\n",
      "---- With regards to illegal use of bicycles and e-bikes on sidewalks should the City  ---\n",
      "\n",
      "How many responses turned to 'Other': 209 / 2238\n",
      "\n",
      "---- Toronto Bylaws consider personal mobility devices (such as electric wheel chairs) to be pedestrians In your opinion should the City ---\n",
      "\n",
      "How many responses turned to 'Other': 77 / 2238\n"
     ]
    }
   ],
   "source": [
    "# Cut off at < 5 responses\n",
    "k = 5 #cut off number\n",
    "\n",
    "cols = list(df_pred.columns)\n",
    "cols.remove('Timestamp')\n",
    "\n",
    "for c in cols: #Omit timestamp\n",
    "    print(\"\\n---- %s ---\\n\" % c)\n",
    "    vc = df_pred[c].value_counts()\n",
    "    other_responses = vc[vc<k].index\n",
    "    print(\"How many responses turned to 'Other': %s / 2238\" % df_pred[c].isin(other_responses).sum())\n",
    "    df_pred[c].loc[df_pred[c].isin(other_responses)] = 'Other'\n",
    "    "
   ]
  },
  {
   "cell_type": "markdown",
   "metadata": {},
   "source": [
    "### One-Hot Encoding\n",
    "\n",
    "We perform one-hot encoding on the features, except **Timestamp** and **What age range do you fall in?**. Due to the natural ordering of the age range, it makes sense to label the responses in ascending order of age. Since there are not a lot of age ranges, it can be done manually."
   ]
  },
  {
   "cell_type": "code",
   "execution_count": 12,
   "metadata": {},
   "outputs": [
    {
     "data": {
      "text/plain": [
       "array(['35 to 49', '18 to 34', '50 to 64', '17 or younger',\n",
       "       '65 years or more', nan], dtype=object)"
      ]
     },
     "execution_count": 12,
     "metadata": {},
     "output_type": "execute_result"
    }
   ],
   "source": [
    "df_pred['What age range do you fall in?'].unique()"
   ]
  },
  {
   "cell_type": "code",
   "execution_count": 13,
   "metadata": {
    "collapsed": true
   },
   "outputs": [],
   "source": [
    "OHE_cols = list(df_pred.columns)\n",
    "OHE_cols.remove('Timestamp')\n",
    "OHE_cols.remove('What age range do you fall in?')\n",
    "\n",
    "#OHE\n",
    "df_pred_dummies = pd.get_dummies(df_pred, columns=OHE_cols)\n",
    "\n",
    "#Age Range Labelling\n",
    "age_range = {'17 or younger': 1, '18 to 34': 2, '35 to 49': 3, '50 to 64': 4, '65 years or more': 5}\n",
    "df_pred_dummies.replace({'What age range do you fall in?': age_range}, inplace=True)"
   ]
  },
  {
   "cell_type": "code",
   "execution_count": 14,
   "metadata": {},
   "outputs": [
    {
     "data": {
      "text/html": [
       "<div>\n",
       "<style>\n",
       "    .dataframe thead tr:only-child th {\n",
       "        text-align: right;\n",
       "    }\n",
       "\n",
       "    .dataframe thead th {\n",
       "        text-align: left;\n",
       "    }\n",
       "\n",
       "    .dataframe tbody tr th {\n",
       "        vertical-align: top;\n",
       "    }\n",
       "</style>\n",
       "<table border=\"1\" class=\"dataframe\">\n",
       "  <thead>\n",
       "    <tr style=\"text-align: right;\">\n",
       "      <th></th>\n",
       "      <th>Timestamp</th>\n",
       "      <th>What age range do you fall in?</th>\n",
       "      <th>Sex_Female</th>\n",
       "      <th>Sex_Male</th>\n",
       "      <th>Sex_Other</th>\n",
       "      <th>How would you describe your level of physical health?_Excellent</th>\n",
       "      <th>How would you describe your level of physical health?_Fairly good</th>\n",
       "      <th>How would you describe your level of physical health?_Good</th>\n",
       "      <th>How would you describe your level of physical health?_Other</th>\n",
       "      <th>How would you describe your level of physical health?_Poor</th>\n",
       "      <th>How would you describe your level of physical health?_Very good</th>\n",
       "      <th>What level of education have you reached?_College or trade school diploma</th>\n",
       "      <th>What level of education have you reached?_High school diploma</th>\n",
       "      <th>What level of education have you reached?_Other</th>\n",
       "      <th>What level of education have you reached?_Post graduate</th>\n",
       "      <th>...</th>\n",
       "      <th>With regards to illegal use of bicycles and e-bikes on sidewalks should the City _increase signage increase enforcement</th>\n",
       "      <th>With regards to illegal use of bicycles and e-bikes on sidewalks should the City _increase signage increase enforcement increase education</th>\n",
       "      <th>With regards to illegal use of bicycles and e-bikes on sidewalks should the City _maintain the existing programs for signage education and enforcement</th>\n",
       "      <th>With regards to illegal use of bicycles and e-bikes on sidewalks should the City _maintain the existing programs for signage education and enforcement increase education</th>\n",
       "      <th>With regards to illegal use of bicycles and e-bikes on sidewalks should the City _maintain the existing programs for signage education and enforcement increase enforcement</th>\n",
       "      <th>With regards to illegal use of bicycles and e-bikes on sidewalks should the City _maintain the existing programs for signage education and enforcement increase enforcement increase education</th>\n",
       "      <th>With regards to illegal use of bicycles and e-bikes on sidewalks should the City _maintain the existing programs for signage education and enforcement increase signage</th>\n",
       "      <th>With regards to illegal use of bicycles and e-bikes on sidewalks should the City _maintain the existing programs for signage education and enforcement increase signage increase education</th>\n",
       "      <th>With regards to illegal use of bicycles and e-bikes on sidewalks should the City _maintain the existing programs for signage education and enforcement increase signage increase enforcement</th>\n",
       "      <th>With regards to illegal use of bicycles and e-bikes on sidewalks should the City _maintain the existing programs for signage education and enforcement increase signage increase enforcement increase education</th>\n",
       "      <th>Toronto Bylaws consider personal mobility devices (such as electric wheel chairs) to be pedestrians In your opinion should the City_Do nothing</th>\n",
       "      <th>Toronto Bylaws consider personal mobility devices (such as electric wheel chairs) to be pedestrians In your opinion should the City_Don't Know / Rather Not Answer</th>\n",
       "      <th>Toronto Bylaws consider personal mobility devices (such as electric wheel chairs) to be pedestrians In your opinion should the City_Institute a speed limit for sidewalks</th>\n",
       "      <th>Toronto Bylaws consider personal mobility devices (such as electric wheel chairs) to be pedestrians In your opinion should the City_Other</th>\n",
       "      <th>Toronto Bylaws consider personal mobility devices (such as electric wheel chairs) to be pedestrians In your opinion should the City_Update the definition of a personal mobility device so that they must travel at speeds close to walking speed</th>\n",
       "    </tr>\n",
       "  </thead>\n",
       "  <tbody>\n",
       "    <tr>\n",
       "      <th>0</th>\n",
       "      <td>2013-04-10 12:10</td>\n",
       "      <td>3.0</td>\n",
       "      <td>0</td>\n",
       "      <td>1</td>\n",
       "      <td>0</td>\n",
       "      <td>0</td>\n",
       "      <td>0</td>\n",
       "      <td>1</td>\n",
       "      <td>0</td>\n",
       "      <td>0</td>\n",
       "      <td>0</td>\n",
       "      <td>0</td>\n",
       "      <td>0</td>\n",
       "      <td>0</td>\n",
       "      <td>1</td>\n",
       "      <td>...</td>\n",
       "      <td>0</td>\n",
       "      <td>0</td>\n",
       "      <td>0</td>\n",
       "      <td>0</td>\n",
       "      <td>0</td>\n",
       "      <td>0</td>\n",
       "      <td>0</td>\n",
       "      <td>0</td>\n",
       "      <td>0</td>\n",
       "      <td>0</td>\n",
       "      <td>0</td>\n",
       "      <td>0</td>\n",
       "      <td>1</td>\n",
       "      <td>0</td>\n",
       "      <td>0</td>\n",
       "    </tr>\n",
       "    <tr>\n",
       "      <th>1</th>\n",
       "      <td>2013-04-10 12:30</td>\n",
       "      <td>2.0</td>\n",
       "      <td>0</td>\n",
       "      <td>1</td>\n",
       "      <td>0</td>\n",
       "      <td>1</td>\n",
       "      <td>0</td>\n",
       "      <td>0</td>\n",
       "      <td>0</td>\n",
       "      <td>0</td>\n",
       "      <td>0</td>\n",
       "      <td>0</td>\n",
       "      <td>0</td>\n",
       "      <td>0</td>\n",
       "      <td>0</td>\n",
       "      <td>...</td>\n",
       "      <td>0</td>\n",
       "      <td>0</td>\n",
       "      <td>0</td>\n",
       "      <td>0</td>\n",
       "      <td>0</td>\n",
       "      <td>0</td>\n",
       "      <td>0</td>\n",
       "      <td>0</td>\n",
       "      <td>0</td>\n",
       "      <td>1</td>\n",
       "      <td>1</td>\n",
       "      <td>0</td>\n",
       "      <td>0</td>\n",
       "      <td>0</td>\n",
       "      <td>0</td>\n",
       "    </tr>\n",
       "  </tbody>\n",
       "</table>\n",
       "<p>2 rows × 242 columns</p>\n",
       "</div>"
      ],
      "text/plain": [
       "          Timestamp  What age range do you fall in?  Sex_Female  Sex_Male  \\\n",
       "0  2013-04-10 12:10                             3.0           0         1   \n",
       "1  2013-04-10 12:30                             2.0           0         1   \n",
       "\n",
       "   Sex_Other  How would you describe your level of physical health?_Excellent  \\\n",
       "0          0                                                                0   \n",
       "1          0                                                                1   \n",
       "\n",
       "   How would you describe your level of physical health?_Fairly good  \\\n",
       "0                                                                  0   \n",
       "1                                                                  0   \n",
       "\n",
       "   How would you describe your level of physical health?_Good  \\\n",
       "0                                                           1   \n",
       "1                                                           0   \n",
       "\n",
       "   How would you describe your level of physical health?_Other  \\\n",
       "0                                                            0   \n",
       "1                                                            0   \n",
       "\n",
       "   How would you describe your level of physical health?_Poor  \\\n",
       "0                                                           0   \n",
       "1                                                           0   \n",
       "\n",
       "   How would you describe your level of physical health?_Very good  \\\n",
       "0                                                                0   \n",
       "1                                                                0   \n",
       "\n",
       "   What level of education have you reached?_College or trade school diploma  \\\n",
       "0                                                                          0   \n",
       "1                                                                          0   \n",
       "\n",
       "   What level of education have you reached?_High school diploma   \\\n",
       "0                                                               0   \n",
       "1                                                               0   \n",
       "\n",
       "   What level of education have you reached?_Other  \\\n",
       "0                                                0   \n",
       "1                                                0   \n",
       "\n",
       "   What level of education have you reached?_Post graduate  \\\n",
       "0                                                        1   \n",
       "1                                                        0   \n",
       "\n",
       "                                                                                                                          ...                                                                                                                          \\\n",
       "0                                                                                                                         ...                                                                                                                           \n",
       "1                                                                                                                         ...                                                                                                                           \n",
       "\n",
       "   With regards to illegal use of bicycles and e-bikes on sidewalks should the City _increase signage increase enforcement  \\\n",
       "0                                                                                                    0                       \n",
       "1                                                                                                    0                       \n",
       "\n",
       "   With regards to illegal use of bicycles and e-bikes on sidewalks should the City _increase signage increase enforcement increase education  \\\n",
       "0                                                                                                    0                                          \n",
       "1                                                                                                    0                                          \n",
       "\n",
       "   With regards to illegal use of bicycles and e-bikes on sidewalks should the City _maintain the existing programs for signage education and enforcement  \\\n",
       "0                                                                                                    0                                                      \n",
       "1                                                                                                    0                                                      \n",
       "\n",
       "   With regards to illegal use of bicycles and e-bikes on sidewalks should the City _maintain the existing programs for signage education and enforcement increase education  \\\n",
       "0                                                                                                    0                                                                         \n",
       "1                                                                                                    0                                                                         \n",
       "\n",
       "   With regards to illegal use of bicycles and e-bikes on sidewalks should the City _maintain the existing programs for signage education and enforcement increase enforcement  \\\n",
       "0                                                                                                    0                                                                           \n",
       "1                                                                                                    0                                                                           \n",
       "\n",
       "   With regards to illegal use of bicycles and e-bikes on sidewalks should the City _maintain the existing programs for signage education and enforcement increase enforcement increase education  \\\n",
       "0                                                                                                    0                                                                                              \n",
       "1                                                                                                    0                                                                                              \n",
       "\n",
       "   With regards to illegal use of bicycles and e-bikes on sidewalks should the City _maintain the existing programs for signage education and enforcement increase signage  \\\n",
       "0                                                                                                    0                                                                       \n",
       "1                                                                                                    0                                                                       \n",
       "\n",
       "   With regards to illegal use of bicycles and e-bikes on sidewalks should the City _maintain the existing programs for signage education and enforcement increase signage increase education  \\\n",
       "0                                                                                                    0                                                                                          \n",
       "1                                                                                                    0                                                                                          \n",
       "\n",
       "   With regards to illegal use of bicycles and e-bikes on sidewalks should the City _maintain the existing programs for signage education and enforcement increase signage increase enforcement  \\\n",
       "0                                                                                                    0                                                                                            \n",
       "1                                                                                                    0                                                                                            \n",
       "\n",
       "   With regards to illegal use of bicycles and e-bikes on sidewalks should the City _maintain the existing programs for signage education and enforcement increase signage increase enforcement increase education  \\\n",
       "0                                                                                                    0                                                                                                               \n",
       "1                                                                                                    1                                                                                                               \n",
       "\n",
       "   Toronto Bylaws consider personal mobility devices (such as electric wheel chairs) to be pedestrians In your opinion should the City_Do nothing  \\\n",
       "0                                                                                                    0                                              \n",
       "1                                                                                                    1                                              \n",
       "\n",
       "   Toronto Bylaws consider personal mobility devices (such as electric wheel chairs) to be pedestrians In your opinion should the City_Don't Know / Rather Not Answer  \\\n",
       "0                                                                                                    0                                                                  \n",
       "1                                                                                                    0                                                                  \n",
       "\n",
       "   Toronto Bylaws consider personal mobility devices (such as electric wheel chairs) to be pedestrians In your opinion should the City_Institute a speed limit for sidewalks  \\\n",
       "0                                                                                                    1                                                                         \n",
       "1                                                                                                    0                                                                         \n",
       "\n",
       "   Toronto Bylaws consider personal mobility devices (such as electric wheel chairs) to be pedestrians In your opinion should the City_Other  \\\n",
       "0                                                                                                    0                                         \n",
       "1                                                                                                    0                                         \n",
       "\n",
       "   Toronto Bylaws consider personal mobility devices (such as electric wheel chairs) to be pedestrians In your opinion should the City_Update the definition of a personal mobility device so that they must travel at speeds close to walking speed   \n",
       "0                                                                                                    0                                                                                                                                                 \n",
       "1                                                                                                    0                                                                                                                                                 \n",
       "\n",
       "[2 rows x 242 columns]"
      ]
     },
     "execution_count": 14,
     "metadata": {},
     "output_type": "execute_result"
    }
   ],
   "source": [
    "df_pred_dummies.head(2)"
   ]
  },
  {
   "cell_type": "markdown",
   "metadata": {},
   "source": [
    "### Formatting the Label\n",
    "\n",
    "The label column 'Does your household have access to any of the following private motorized vehicles?' also needs to be formatted. We take extra caution here because as the label column, it indicates to us the performance of the model. If the answers are wrong, then the model will learn incorrectly."
   ]
  },
  {
   "cell_type": "code",
   "execution_count": 15,
   "metadata": {},
   "outputs": [
    {
     "name": "stdout",
     "output_type": "stream",
     "text": [
      "After omitting responses with < 2 occurences\n",
      "There are 2137 / 2238 responses\n",
      "Fraction kept: 0.9549\n",
      "Remaining responses 22 out of 123\n"
     ]
    }
   ],
   "source": [
    "#Brief Overview\n",
    "k = 2\n",
    "\n",
    "pred_column = 'Does your household have access to any of the following private motorized vehicles?'\n",
    "df_label = df_raw[pred_column].copy() #don't want to modify original raw file\n",
    "vc = df_label.value_counts()\n",
    "\n",
    "print('After omitting responses with < %s occurences' %k)\n",
    "print('There are %s / 2238 responses' %vc[vc >= k].sum())\n",
    "print('Fraction kept: %0.4f' %(vc[vc >= k].sum()/2238.))\n",
    "print('Remaining responses %(rem)s out of %(total)s' %{'rem': len(vc[vc >= k]), 'total': len(vc)})"
   ]
  },
  {
   "cell_type": "code",
   "execution_count": 16,
   "metadata": {
    "scrolled": true
   },
   "outputs": [
    {
     "data": {
      "text/plain": [
       "Yes - a car SUV truck or van                                                                                                          1146\n",
       "No - I do not have access to a private motorized vehicle                                                                               522\n",
       "Yes a motorcycle                                                                                                                       162\n",
       "Yes - a pedal assist type e-bike                                                                                                        99\n",
       "Yes - a scooter style e-bike                                                                                                            85\n",
       "Yes - a car SUV truck or van Yes a motorcycle                                                                                           25\n",
       "Yes - a car SUV truck or van Yes - a scooter style e-bike                                                                               22\n",
       "Yes - a car SUV truck or van Yes - a pedal assist type e-bike                                                                           20\n",
       "Yes a limited speed motorcycle (eg gas powered vespa)                                                                                   17\n",
       "Autoshare                                                                                                                                9\n",
       "car share                                                                                                                                4\n",
       "Yes - a gas moped                                                                                                                        4\n",
       "Yes - a car SUV truck or van Yes - a scooter style e-bike Yes - a pedal assist type e-bike                                               3\n",
       "car and motorcycle                                                                                                                       3\n",
       "car rental                                                                                                                               2\n",
       "Yes - a car SUV truck or van Yes a limited speed motorcycle (eg gas powered vespa)                                                       2\n",
       "car & motorcycle                                                                                                                         2\n",
       "Yes - a car SUV truck or van Yes a motorcycle Yes - a scooter style e-bike Yes - a pedal assist type e-bike                              2\n",
       "Car and motorcycle                                                                                                                       2\n",
       "SUV and motorcycle                                                                                                                       2\n",
       "zipcar                                                                                                                                   2\n",
       "Yes - a car SUV truck or van No - I do not have access to a private motorized vehicle                                                    2\n",
       "Cars and Motorcycles                                                                                                                     1\n",
       "Survey does not allow for multiple answers                                                                                               1\n",
       "car motorcycle limited speed motorcycle                                                                                                  1\n",
       "                                                                                                                                      ... \n",
       "The author of this survey is a fuk'g idiot how do i answer if i have more than one of these?                                             1\n",
       "occasional car rental                                                                                                                    1\n",
       "Yes - a car and Yes - a motorcycle (your question should be checkboxes not radio-buttons)                                                1\n",
       "rent/share cars as needed                                                                                                                1\n",
       "bike                                                                                                                                     1\n",
       "have a Car2Go membership                                                                                                                 1\n",
       "Yes - a car SUV truck or van I have a 200cc scooter  It's like a vespa but it's not limited speed  Considered a motorcycle by MTO        1\n",
       "car-share: Zipcar Car2Go                                                                                                                 1\n",
       "car/truck/motorcycle/peddle bike                                                                                                         1\n",
       "I have access to car share car                                                                                                           1\n",
       "Car suv motorcycle                                                                                                                       1\n",
       "Car Motorcycle                                                                                                                           1\n",
       "A motor scooter                                                                                                                          1\n",
       "access through autoshare membership                                                                                                      1\n",
       "Car motorcycle                                                                                                                           1\n",
       "Carshare                                                                                                                                 1\n",
       "5000W custom high power electric bicycle (non-scooter)                                                                                   1\n",
       "membership in car-sharing service which we have not used to date                                                                         1\n",
       "also motorcycle - not allowing more than one choice                                                                                      1\n",
       "Motorcycle and SUV                                                                                                                       1\n",
       "will only let you choose one so i will choose scooter style ebike but i would have checked off a car as well                             1\n",
       "Car motorcycle and SUV                                                                                                                   1\n",
       "Car van motorcycle bike                                                                                                                  1\n",
       "form will only accept one selection! I have a car motorcycle limited speed motorcycle                                                    1\n",
       "Yes - a car SUV truck or van Electric scooter -sidewalk use only                                                                         1\n",
       "Name: Does your household have access to any of the following private motorized vehicles?, Length: 123, dtype: int64"
      ]
     },
     "metadata": {},
     "output_type": "display_data"
    }
   ],
   "source": [
    "display(vc)"
   ]
  },
  {
   "cell_type": "markdown",
   "metadata": {},
   "source": [
    "### Note\n",
    "\n",
    "It seems from above that nearly all who do not have access to a private motorized vehicle answered: *'No - I do not have access to a private motorized vehicle'*. Nearly all who didn't, indicated that they owned a vehicle of some sort. This assumption is not too bad, as there will not be many false classifications (observe the results above). \n",
    "\n",
    "We will set those who answered *'No - I do not have access to a private motorized vehicle'* to 0, all others to 1 to indicate otherwise (typically *'Yes, I have a access to a private motorized vehicle'*)."
   ]
  },
  {
   "cell_type": "code",
   "execution_count": 17,
   "metadata": {},
   "outputs": [
    {
     "data": {
      "text/plain": [
       "0                                Yes - a scooter style e-bike\n",
       "1                                Yes - a scooter style e-bike\n",
       "2                                Yes - a car SUV truck or van\n",
       "3                                Yes - a car SUV truck or van\n",
       "4                                Yes - a car SUV truck or van\n",
       "5    No - I do not have access to a private motorized vehicle\n",
       "6                                            Yes a motorcycle\n",
       "7                                Yes - a car SUV truck or van\n",
       "8                                Yes - a car SUV truck or van\n",
       "9                                Yes - a car SUV truck or van\n",
       "Name: Does your household have access to any of the following private motorized vehicles?, dtype: object"
      ]
     },
     "execution_count": 17,
     "metadata": {},
     "output_type": "execute_result"
    }
   ],
   "source": [
    "df_label.head(10)"
   ]
  },
  {
   "cell_type": "code",
   "execution_count": 18,
   "metadata": {},
   "outputs": [
    {
     "data": {
      "text/plain": [
       "0    1\n",
       "1    1\n",
       "2    1\n",
       "3    1\n",
       "4    1\n",
       "5    0\n",
       "6    1\n",
       "7    1\n",
       "8    1\n",
       "9    1\n",
       "Name: Does your household have access to any of the following private motorized vehicles?, dtype: object"
      ]
     },
     "execution_count": 18,
     "metadata": {},
     "output_type": "execute_result"
    }
   ],
   "source": [
    "df_label.loc[df_label == 'No - I do not have access to a private motorized vehicle'] = 0\n",
    "df_label.loc[df_label != 0] = 1\n",
    "\n",
    "df_label.head(10)"
   ]
  },
  {
   "cell_type": "markdown",
   "metadata": {},
   "source": [
    "### Save\n",
    "\n",
    "We save our two dataframes, so that a user may reproduce the results below without having to re-run the data pre-processing."
   ]
  },
  {
   "cell_type": "code",
   "execution_count": 19,
   "metadata": {
    "collapsed": true
   },
   "outputs": [],
   "source": [
    "df_pred.to_csv('ebike_pred.csv')\n",
    "df_pred_dummies.to_csv('ebike_pred_OHE.csv')\n",
    "df_label.to_csv('ebike_label.csv')"
   ]
  }
 ],
 "metadata": {
  "kernelspec": {
   "display_name": "Python 3",
   "language": "python",
   "name": "python3"
  },
  "language_info": {
   "codemirror_mode": {
    "name": "ipython",
    "version": 3
   },
   "file_extension": ".py",
   "mimetype": "text/x-python",
   "name": "python",
   "nbconvert_exporter": "python",
   "pygments_lexer": "ipython3",
   "version": "3.5.1"
  }
 },
 "nbformat": 4,
 "nbformat_minor": 1
}
